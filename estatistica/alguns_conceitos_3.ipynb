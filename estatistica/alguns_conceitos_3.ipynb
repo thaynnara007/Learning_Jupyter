{
 "cells": [
  {
   "cell_type": "markdown",
   "metadata": {},
   "source": [
    "# Alguns conceitos de estatística, part III\n",
    "\n",
    " ## 1. Distribuição de Poisson\n",
    "   - Mede a probabilidade de um evento ocorrer em intervalos de tempo, por exemplo: as chances de acidentes de carro em um dia\n",
    "   - Os eventos a cada intervalo de tempo devem ser independentes entre si\n",
    "   - Eventos:\n",
    "     - P(X = x), exemplo: as chances de ocorrer 3 acidentes de carro no dia\n",
    "     - P(X < x), exemplo: as chances de ocorrer menos de 3 acidentes no dia\n",
    "     - P(X > x), exemplo: as chances de ocorrer mais de 3 acidentes no dia\n",
    "   - Para o calculo é necessario:\n",
    "     - O número de eventos que estão sendo calculados\n",
    "     - O número médio de de ocorrência do evento no intervalo de tempo"
   ]
  },
  {
   "cell_type": "code",
   "execution_count": 4,
   "metadata": {},
   "outputs": [],
   "source": [
    "import pandas as pandas\n",
    "import numpy as numpy\n",
    "import matplotlib.pyplot  as plt\n",
    "from scipy import stats\n",
    "from scipy.stats import poisson\n",
    "from scipy.stats import chi2_contingency\n",
    "import statsmodels.api as sm\n",
    "from statsmodels.formula.api import ols\n",
    "from statsmodels.stats.multicomp import MultiComparison\n",
    "from pyod.models.knn import KNN"
   ]
  },
  {
   "cell_type": "code",
   "execution_count": 5,
   "metadata": {},
   "outputs": [
    {
     "data": {
      "text/plain": [
       "0.18044704431548356"
      ]
     },
     "execution_count": 5,
     "metadata": {},
     "output_type": "execute_result"
    }
   ],
   "source": [
    "# Média de acidentes de carro é 2 por dia\n",
    "# Qual a probabilidade de ocorrer 3 acidentes por dia?\n",
    "poisson.pmf(3,2)"
   ]
  },
  {
   "cell_type": "code",
   "execution_count": 6,
   "metadata": {},
   "outputs": [
    {
     "data": {
      "text/plain": [
       "0.857123460498547"
      ]
     },
     "execution_count": 6,
     "metadata": {},
     "output_type": "execute_result"
    }
   ],
   "source": [
    "# Qual a probabilidade de ocorrer 3 acidentes ou menos por dia?\n",
    "poisson.cdf(3,2)"
   ]
  },
  {
   "cell_type": "code",
   "execution_count": 7,
   "metadata": {},
   "outputs": [
    {
     "data": {
      "text/plain": [
       "0.14287653950145296"
      ]
     },
     "execution_count": 7,
     "metadata": {},
     "output_type": "execute_result"
    }
   ],
   "source": [
    "# Qual a probabilidade de ocorrer 3 acidentes ou mais por dia?\n",
    "poisson.sf(3,2)"
   ]
  },
  {
   "cell_type": "markdown",
   "metadata": {},
   "source": [
    " ## 2. Qui quadrado\n",
    "  - Serve para a provar hipóteses"
   ]
  },
  {
   "cell_type": "code",
   "execution_count": 8,
   "metadata": {},
   "outputs": [
    {
     "data": {
      "text/plain": [
       "(2.037351443123939, 0.15347667161786666, 1, array([[15.5,  9.5],\n",
       "        [46.5, 28.5]]))"
      ]
     },
     "execution_count": 8,
     "metadata": {},
     "output_type": "execute_result"
    }
   ],
   "source": [
    "novela = numpy.array([[19,6],[43,32]])\n",
    "chi2_contingency(novela)"
   ]
  },
  {
   "cell_type": "markdown",
   "metadata": {},
   "source": [
    " ## 3. Test T de Student\n",
    " \n",
    "  - Usado para fazer teste de hipóteses\n",
    "  - Compara duas médias\n",
    "  - Pré-requisitos:\n",
    "    - As duas amostrar são independentes\n",
    "    - Variável dependente normalmente distribuída\n",
    "    - Variância entre duas variáveis é aproximada\n",
    "  - Útil para comparar duas amostras\n",
    "  \n",
    "## 4. Análise de variância( Anova ):\n",
    " \n",
    "  - Usado para teste de hipóteses\n",
    "  - Usado para comparar 3 grupos ou mais\n",
    "  - Uma variável quantitativa e uma ou mais variávei categóricas\n",
    "  - Compara todo o conjunto, não em pares\n",
    "  - Test F\n",
    "    - x -> grau de liberdade: numero de grupos - 1\n",
    "    - y -> grau de liberdade no denominador: numero de observações - numero de grupos\n",
    "    - hipótese nula: não há variância significativa entre os grupos\n",
    "    - valor - p < alfa: há variação significativa entre os grupos\n",
    "  - Test de tukey: tendo em vista que a hipotese alternativa foi provada, esse teste tem o intuito de mostra onde está a variância"
   ]
  },
  {
   "cell_type": "code",
   "execution_count": 9,
   "metadata": {},
   "outputs": [
    {
     "data": {
      "text/html": [
       "<div>\n",
       "<style scoped>\n",
       "    .dataframe tbody tr th:only-of-type {\n",
       "        vertical-align: middle;\n",
       "    }\n",
       "\n",
       "    .dataframe tbody tr th {\n",
       "        vertical-align: top;\n",
       "    }\n",
       "\n",
       "    .dataframe thead th {\n",
       "        text-align: right;\n",
       "    }\n",
       "</style>\n",
       "<table border=\"1\" class=\"dataframe\">\n",
       "  <thead>\n",
       "    <tr style=\"text-align: right;\">\n",
       "      <th></th>\n",
       "      <th>Sexo</th>\n",
       "      <th>Remedio</th>\n",
       "      <th>Horas</th>\n",
       "    </tr>\n",
       "  </thead>\n",
       "  <tbody>\n",
       "    <tr>\n",
       "      <th>0</th>\n",
       "      <td>F</td>\n",
       "      <td>A</td>\n",
       "      <td>5</td>\n",
       "    </tr>\n",
       "    <tr>\n",
       "      <th>1</th>\n",
       "      <td>F</td>\n",
       "      <td>A</td>\n",
       "      <td>10</td>\n",
       "    </tr>\n",
       "    <tr>\n",
       "      <th>2</th>\n",
       "      <td>F</td>\n",
       "      <td>A</td>\n",
       "      <td>7</td>\n",
       "    </tr>\n",
       "    <tr>\n",
       "      <th>3</th>\n",
       "      <td>F</td>\n",
       "      <td>A</td>\n",
       "      <td>7</td>\n",
       "    </tr>\n",
       "    <tr>\n",
       "      <th>4</th>\n",
       "      <td>M</td>\n",
       "      <td>A</td>\n",
       "      <td>7</td>\n",
       "    </tr>\n",
       "  </tbody>\n",
       "</table>\n",
       "</div>"
      ],
      "text/plain": [
       "  Sexo Remedio  Horas\n",
       "0    F       A      5\n",
       "1    F       A     10\n",
       "2    F       A      7\n",
       "3    F       A      7\n",
       "4    M       A      7"
      ]
     },
     "execution_count": 9,
     "metadata": {},
     "output_type": "execute_result"
    }
   ],
   "source": [
    "tratamento = pandas.read_csv(\"data/anova.csv\", sep=\";\")\n",
    "tratamento.head()"
   ]
  },
  {
   "cell_type": "code",
   "execution_count": 10,
   "metadata": {},
   "outputs": [
    {
     "data": {
      "text/plain": [
       "<matplotlib.axes._subplots.AxesSubplot at 0x7fc84b96eb38>"
      ]
     },
     "execution_count": 10,
     "metadata": {},
     "output_type": "execute_result"
    },
    {
     "data": {
      "image/png": "[encoded data removed]",
      "text/plain": [
       "<Figure size 432x288 with 1 Axes>"
      ]
     },
     "metadata": {
      "needs_background": "light"
     },
     "output_type": "display_data"
    }
   ],
   "source": [
    "tratamento.boxplot(by = 'Remedio', grid=False)"
   ]
  },
  {
   "cell_type": "code",
   "execution_count": 12,
   "metadata": {},
   "outputs": [
    {
     "data": {
      "text/html": [
       "<div>\n",
       "<style scoped>\n",
       "    .dataframe tbody tr th:only-of-type {\n",
       "        vertical-align: middle;\n",
       "    }\n",
       "\n",
       "    .dataframe tbody tr th {\n",
       "        vertical-align: top;\n",
       "    }\n",
       "\n",
       "    .dataframe thead th {\n",
       "        text-align: right;\n",
       "    }\n",
       "</style>\n",
       "<table border=\"1\" class=\"dataframe\">\n",
       "  <thead>\n",
       "    <tr style=\"text-align: right;\">\n",
       "      <th></th>\n",
       "      <th>df</th>\n",
       "      <th>sum_sq</th>\n",
       "      <th>mean_sq</th>\n",
       "      <th>F</th>\n",
       "      <th>PR(&gt;F)</th>\n",
       "    </tr>\n",
       "  </thead>\n",
       "  <tbody>\n",
       "    <tr>\n",
       "      <th>Remedio</th>\n",
       "      <td>2.0</td>\n",
       "      <td>4.083333</td>\n",
       "      <td>2.041667</td>\n",
       "      <td>0.537618</td>\n",
       "      <td>0.591966</td>\n",
       "    </tr>\n",
       "    <tr>\n",
       "      <th>Residual</th>\n",
       "      <td>21.0</td>\n",
       "      <td>79.750000</td>\n",
       "      <td>3.797619</td>\n",
       "      <td>NaN</td>\n",
       "      <td>NaN</td>\n",
       "    </tr>\n",
       "  </tbody>\n",
       "</table>\n",
       "</div>"
      ],
      "text/plain": [
       "            df     sum_sq   mean_sq         F    PR(>F)\n",
       "Remedio    2.0   4.083333  2.041667  0.537618  0.591966\n",
       "Residual  21.0  79.750000  3.797619       NaN       NaN"
      ]
     },
     "execution_count": 12,
     "metadata": {},
     "output_type": "execute_result"
    }
   ],
   "source": [
    "modelo1 = ols(\"Horas ~ Remedio\", data=tratamento).fit()\n",
    "resultados1 = sm.stats.anova_lm(modelo1)\n",
    "resultados1"
   ]
  },
  {
   "cell_type": "code",
   "execution_count": 13,
   "metadata": {},
   "outputs": [
    {
     "data": {
      "text/html": [
       "<div>\n",
       "<style scoped>\n",
       "    .dataframe tbody tr th:only-of-type {\n",
       "        vertical-align: middle;\n",
       "    }\n",
       "\n",
       "    .dataframe tbody tr th {\n",
       "        vertical-align: top;\n",
       "    }\n",
       "\n",
       "    .dataframe thead th {\n",
       "        text-align: right;\n",
       "    }\n",
       "</style>\n",
       "<table border=\"1\" class=\"dataframe\">\n",
       "  <thead>\n",
       "    <tr style=\"text-align: right;\">\n",
       "      <th></th>\n",
       "      <th>df</th>\n",
       "      <th>sum_sq</th>\n",
       "      <th>mean_sq</th>\n",
       "      <th>F</th>\n",
       "      <th>PR(&gt;F)</th>\n",
       "    </tr>\n",
       "  </thead>\n",
       "  <tbody>\n",
       "    <tr>\n",
       "      <th>Remedio</th>\n",
       "      <td>2.0</td>\n",
       "      <td>4.083333</td>\n",
       "      <td>2.041667</td>\n",
       "      <td>0.532609</td>\n",
       "      <td>0.596042</td>\n",
       "    </tr>\n",
       "    <tr>\n",
       "      <th>Sexo</th>\n",
       "      <td>1.0</td>\n",
       "      <td>4.166667</td>\n",
       "      <td>4.166667</td>\n",
       "      <td>1.086957</td>\n",
       "      <td>0.310948</td>\n",
       "    </tr>\n",
       "    <tr>\n",
       "      <th>Remedio:Sexo</th>\n",
       "      <td>2.0</td>\n",
       "      <td>6.583333</td>\n",
       "      <td>3.291667</td>\n",
       "      <td>0.858696</td>\n",
       "      <td>0.440360</td>\n",
       "    </tr>\n",
       "    <tr>\n",
       "      <th>Residual</th>\n",
       "      <td>18.0</td>\n",
       "      <td>69.000000</td>\n",
       "      <td>3.833333</td>\n",
       "      <td>NaN</td>\n",
       "      <td>NaN</td>\n",
       "    </tr>\n",
       "  </tbody>\n",
       "</table>\n",
       "</div>"
      ],
      "text/plain": [
       "                df     sum_sq   mean_sq         F    PR(>F)\n",
       "Remedio        2.0   4.083333  2.041667  0.532609  0.596042\n",
       "Sexo           1.0   4.166667  4.166667  1.086957  0.310948\n",
       "Remedio:Sexo   2.0   6.583333  3.291667  0.858696  0.440360\n",
       "Residual      18.0  69.000000  3.833333       NaN       NaN"
      ]
     },
     "execution_count": 13,
     "metadata": {},
     "output_type": "execute_result"
    }
   ],
   "source": [
    "modelo2 = ols(\"Horas ~ Remedio * Sexo\", data=tratamento).fit()\n",
    "resultado2 = sm.stats.anova_lm(modelo2)\n",
    "resultado2"
   ]
  },
  {
   "cell_type": "code",
   "execution_count": 15,
   "metadata": {},
   "outputs": [
    {
     "name": "stdout",
     "output_type": "stream",
     "text": [
      "Multiple Comparison of Means - Tukey HSD,FWER=0.05\n",
      "============================================\n",
      "group1 group2 meandiff  lower  upper  reject\n",
      "--------------------------------------------\n",
      "  A      B     -0.625  -3.0803 1.8303 False \n",
      "  A      C     0.375   -2.0803 2.8303 False \n",
      "  B      C      1.0    -1.4553 3.4553 False \n",
      "--------------------------------------------\n"
     ]
    }
   ],
   "source": [
    "mc = MultiComparison(tratamento[\"Horas\"], tratamento[\"Remedio\"])\n",
    "resultado = mc.tukeyhsd()\n",
    "print (resultado)"
   ]
  },
  {
   "cell_type": "code",
   "execution_count": null,
   "metadata": {},
   "outputs": [],
   "source": []
  }
 ],
 "metadata": {
  "kernelspec": {
   "display_name": "Python 3",
   "language": "python",
   "name": "python3"
  },
  "language_info": {
   "codemirror_mode": {
    "name": "ipython",
    "version": 3
   },
   "file_extension": ".py",
   "mimetype": "text/x-python",
   "name": "python",
   "nbconvert_exporter": "python",
   "pygments_lexer": "ipython3",
   "version": "3.5.2"
  }
 },
 "nbformat": 4,
 "nbformat_minor": 2
}
