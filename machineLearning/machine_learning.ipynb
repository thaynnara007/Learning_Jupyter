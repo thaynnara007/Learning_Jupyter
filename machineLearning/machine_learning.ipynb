{
 "cells": [
  {
   "cell_type": "markdown",
   "metadata": {},
   "source": [
    "# Machine Learning\n",
    " \n",
    " - É um processo que explora e analisa grandes volumes de dados em busca de padrões, previsões, erros, associações, entre outros.\n",
    " - Aprendizado contínuo: com mais dados, o computador pode melhorar seu modelo\n",
    " - Aprendizado mensurável: pode ser medido o quanto o computador aprendeu\n",
    " \n",
    " ## Tarefas\n",
    " \n",
    "  ### 1. Classificação\n",
    "  \n",
    "   - A partir de dados ja existentes, tenta prever qual a classificação de um novo dado\n",
    "   - Descreve ou preve um atributo do atributo classe\n",
    "   - Usado para prever uma fraude, descobrir qual espécime um animal pertence, prever uma doença, classificar um tipo de fungo, etcs.\n",
    "   - Overfiting: quando o modelo tem uma alta taixa de acerto para uma base de dados especifica, e quando submetida a outra, a taixa cai; como se o modelo tivesse \"decorado\" os dados, envés de aprendido\n",
    "     - Causas\n",
    "       - Dados não representativos\n",
    "       - Dados não significativo\n",
    "       - Forma de treinamento\n",
    "       - Modelo incorreto\n",
    "       - Classe rara → quando nos dados há um desbalanceamento da classe. Existe muito mais dados o qual o algoritomo possa prever para um tipo expecifico, quando para outro, não\n",
    "   - Modelos genéricos: modelos com desenpenhos similares entre diferentes base de dados\n",
    "   - Algoritimos\n",
    "     - Árvores de decisão \n",
    "     - Regras\n",
    "     - Naïve bayes\n",
    "     - Redes Bayesianas\n",
    "     - Redes neurais artificiais e deep learning\n",
    "     - Maquina de vetor de suporte\n",
    "     - Métodos de grupos\n",
    "     - Aprendizado baseado em instância (KNN)\n",
    "   \n",
    "   #### 1.1 Naïve Bayes"
   ]
  },
  {
   "cell_type": "code",
   "execution_count": 1,
   "metadata": {},
   "outputs": [],
   "source": [
    "import pandas as pandas\n",
    "from sklearn.model_selection import train_test_split\n",
    "from sklearn.naive_bayes import GaussianNB\n",
    "from sklearn.preprocessing import LabelEncoder\n",
    "from sklearn.metrics import confusion_matrix, accuracy_score"
   ]
  },
  {
   "cell_type": "code",
   "execution_count": 2,
   "metadata": {},
   "outputs": [
    {
     "data": {
      "text/html": [
       "<div>\n",
       "<style scoped>\n",
       "    .dataframe tbody tr th:only-of-type {\n",
       "        vertical-align: middle;\n",
       "    }\n",
       "\n",
       "    .dataframe tbody tr th {\n",
       "        vertical-align: top;\n",
       "    }\n",
       "\n",
       "    .dataframe thead th {\n",
       "        text-align: right;\n",
       "    }\n",
       "</style>\n",
       "<table border=\"1\" class=\"dataframe\">\n",
       "  <thead>\n",
       "    <tr style=\"text-align: right;\">\n",
       "      <th></th>\n",
       "      <th>checking_status</th>\n",
       "      <th>duration</th>\n",
       "      <th>credit_history</th>\n",
       "      <th>purpose</th>\n",
       "      <th>credit_amount</th>\n",
       "      <th>savings_status</th>\n",
       "      <th>employment</th>\n",
       "      <th>installment_commitment</th>\n",
       "      <th>personal_status</th>\n",
       "      <th>other_parties</th>\n",
       "      <th>...</th>\n",
       "      <th>property_magnitude</th>\n",
       "      <th>age</th>\n",
       "      <th>other_payment_plans</th>\n",
       "      <th>housing</th>\n",
       "      <th>existing_credits</th>\n",
       "      <th>job</th>\n",
       "      <th>num_dependents</th>\n",
       "      <th>own_telephone</th>\n",
       "      <th>foreign_worker</th>\n",
       "      <th>class</th>\n",
       "    </tr>\n",
       "  </thead>\n",
       "  <tbody>\n",
       "    <tr>\n",
       "      <th>0</th>\n",
       "      <td>&lt;0</td>\n",
       "      <td>6</td>\n",
       "      <td>'critical/other existing credit'</td>\n",
       "      <td>radio/tv</td>\n",
       "      <td>1169</td>\n",
       "      <td>'no known savings'</td>\n",
       "      <td>&gt;=7</td>\n",
       "      <td>4</td>\n",
       "      <td>'male single'</td>\n",
       "      <td>none</td>\n",
       "      <td>...</td>\n",
       "      <td>'real estate'</td>\n",
       "      <td>67</td>\n",
       "      <td>none</td>\n",
       "      <td>own</td>\n",
       "      <td>2</td>\n",
       "      <td>skilled</td>\n",
       "      <td>1</td>\n",
       "      <td>yes</td>\n",
       "      <td>yes</td>\n",
       "      <td>good</td>\n",
       "    </tr>\n",
       "    <tr>\n",
       "      <th>1</th>\n",
       "      <td>0&lt;=X&lt;200</td>\n",
       "      <td>48</td>\n",
       "      <td>'existing paid'</td>\n",
       "      <td>radio/tv</td>\n",
       "      <td>5951</td>\n",
       "      <td>&lt;100</td>\n",
       "      <td>1&lt;=X&lt;4</td>\n",
       "      <td>2</td>\n",
       "      <td>'female div/dep/mar'</td>\n",
       "      <td>none</td>\n",
       "      <td>...</td>\n",
       "      <td>'real estate'</td>\n",
       "      <td>22</td>\n",
       "      <td>none</td>\n",
       "      <td>own</td>\n",
       "      <td>1</td>\n",
       "      <td>skilled</td>\n",
       "      <td>1</td>\n",
       "      <td>none</td>\n",
       "      <td>yes</td>\n",
       "      <td>bad</td>\n",
       "    </tr>\n",
       "    <tr>\n",
       "      <th>2</th>\n",
       "      <td>'no checking'</td>\n",
       "      <td>12</td>\n",
       "      <td>'critical/other existing credit'</td>\n",
       "      <td>education</td>\n",
       "      <td>2096</td>\n",
       "      <td>&lt;100</td>\n",
       "      <td>4&lt;=X&lt;7</td>\n",
       "      <td>2</td>\n",
       "      <td>'male single'</td>\n",
       "      <td>none</td>\n",
       "      <td>...</td>\n",
       "      <td>'real estate'</td>\n",
       "      <td>49</td>\n",
       "      <td>none</td>\n",
       "      <td>own</td>\n",
       "      <td>1</td>\n",
       "      <td>'unskilled resident'</td>\n",
       "      <td>2</td>\n",
       "      <td>none</td>\n",
       "      <td>yes</td>\n",
       "      <td>good</td>\n",
       "    </tr>\n",
       "    <tr>\n",
       "      <th>3</th>\n",
       "      <td>&lt;0</td>\n",
       "      <td>42</td>\n",
       "      <td>'existing paid'</td>\n",
       "      <td>furniture/equipment</td>\n",
       "      <td>7882</td>\n",
       "      <td>&lt;100</td>\n",
       "      <td>4&lt;=X&lt;7</td>\n",
       "      <td>2</td>\n",
       "      <td>'male single'</td>\n",
       "      <td>guarantor</td>\n",
       "      <td>...</td>\n",
       "      <td>'life insurance'</td>\n",
       "      <td>45</td>\n",
       "      <td>none</td>\n",
       "      <td>'for free'</td>\n",
       "      <td>1</td>\n",
       "      <td>skilled</td>\n",
       "      <td>2</td>\n",
       "      <td>none</td>\n",
       "      <td>yes</td>\n",
       "      <td>good</td>\n",
       "    </tr>\n",
       "    <tr>\n",
       "      <th>4</th>\n",
       "      <td>&lt;0</td>\n",
       "      <td>24</td>\n",
       "      <td>'delayed previously'</td>\n",
       "      <td>'new car'</td>\n",
       "      <td>4870</td>\n",
       "      <td>&lt;100</td>\n",
       "      <td>1&lt;=X&lt;4</td>\n",
       "      <td>3</td>\n",
       "      <td>'male single'</td>\n",
       "      <td>none</td>\n",
       "      <td>...</td>\n",
       "      <td>'no known property'</td>\n",
       "      <td>53</td>\n",
       "      <td>none</td>\n",
       "      <td>'for free'</td>\n",
       "      <td>2</td>\n",
       "      <td>skilled</td>\n",
       "      <td>2</td>\n",
       "      <td>none</td>\n",
       "      <td>yes</td>\n",
       "      <td>bad</td>\n",
       "    </tr>\n",
       "  </tbody>\n",
       "</table>\n",
       "<p>5 rows × 21 columns</p>\n",
       "</div>"
      ],
      "text/plain": [
       "  checking_status  duration                    credit_history  \\\n",
       "0              <0         6  'critical/other existing credit'   \n",
       "1        0<=X<200        48                   'existing paid'   \n",
       "2   'no checking'        12  'critical/other existing credit'   \n",
       "3              <0        42                   'existing paid'   \n",
       "4              <0        24              'delayed previously'   \n",
       "\n",
       "               purpose  credit_amount      savings_status employment  \\\n",
       "0             radio/tv           1169  'no known savings'        >=7   \n",
       "1             radio/tv           5951                <100     1<=X<4   \n",
       "2            education           2096                <100     4<=X<7   \n",
       "3  furniture/equipment           7882                <100     4<=X<7   \n",
       "4            'new car'           4870                <100     1<=X<4   \n",
       "\n",
       "   installment_commitment       personal_status other_parties  ...   \\\n",
       "0                       4         'male single'          none  ...    \n",
       "1                       2  'female div/dep/mar'          none  ...    \n",
       "2                       2         'male single'          none  ...    \n",
       "3                       2         'male single'     guarantor  ...    \n",
       "4                       3         'male single'          none  ...    \n",
       "\n",
       "    property_magnitude age  other_payment_plans     housing existing_credits  \\\n",
       "0        'real estate'  67                 none         own                2   \n",
       "1        'real estate'  22                 none         own                1   \n",
       "2        'real estate'  49                 none         own                1   \n",
       "3     'life insurance'  45                 none  'for free'                1   \n",
       "4  'no known property'  53                 none  'for free'                2   \n",
       "\n",
       "                    job num_dependents  own_telephone foreign_worker class  \n",
       "0               skilled              1            yes            yes  good  \n",
       "1               skilled              1           none            yes   bad  \n",
       "2  'unskilled resident'              2           none            yes  good  \n",
       "3               skilled              2           none            yes  good  \n",
       "4               skilled              2           none            yes   bad  \n",
       "\n",
       "[5 rows x 21 columns]"
      ]
     },
     "execution_count": 2,
     "metadata": {},
     "output_type": "execute_result"
    }
   ],
   "source": [
    "credito = pandas.read_csv(\"data/Credit.csv\")\n",
    "credito.head()"
   ]
  },
  {
   "cell_type": "code",
   "execution_count": 3,
   "metadata": {},
   "outputs": [
    {
     "data": {
      "text/plain": [
       "array([['<0', 6, \"'critical/other existing credit'\", 'radio/tv', 1169,\n",
       "        \"'no known savings'\", '>=7', 4, \"'male single'\", 'none', 4,\n",
       "        \"'real estate'\", 67, 'none', 'own', 2, 'skilled', 1, 'yes',\n",
       "        'yes'],\n",
       "       ['0<=X<200', 48, \"'existing paid'\", 'radio/tv', 5951, '<100',\n",
       "        '1<=X<4', 2, \"'female div/dep/mar'\", 'none', 2, \"'real estate'\",\n",
       "        22, 'none', 'own', 1, 'skilled', 1, 'none', 'yes'],\n",
       "       [\"'no checking'\", 12, \"'critical/other existing credit'\",\n",
       "        'education', 2096, '<100', '4<=X<7', 2, \"'male single'\", 'none',\n",
       "        3, \"'real estate'\", 49, 'none', 'own', 1, \"'unskilled resident'\",\n",
       "        2, 'none', 'yes'],\n",
       "       ['<0', 42, \"'existing paid'\", 'furniture/equipment', 7882, '<100',\n",
       "        '4<=X<7', 2, \"'male single'\", 'guarantor', 4, \"'life insurance'\",\n",
       "        45, 'none', \"'for free'\", 1, 'skilled', 2, 'none', 'yes'],\n",
       "       ['<0', 24, \"'delayed previously'\", \"'new car'\", 4870, '<100',\n",
       "        '1<=X<4', 3, \"'male single'\", 'none', 4, \"'no known property'\",\n",
       "        53, 'none', \"'for free'\", 2, 'skilled', 2, 'none', 'yes'],\n",
       "       [\"'no checking'\", 36, \"'existing paid'\", 'education', 9055,\n",
       "        \"'no known savings'\", '1<=X<4', 2, \"'male single'\", 'none', 4,\n",
       "        \"'no known property'\", 35, 'none', \"'for free'\", 1,\n",
       "        \"'unskilled resident'\", 2, 'yes', 'yes']], dtype=object)"
      ]
     },
     "execution_count": 3,
     "metadata": {},
     "output_type": "execute_result"
    }
   ],
   "source": [
    "previsores = credito.iloc[:,0:20].values\n",
    "previsores[:6]"
   ]
  },
  {
   "cell_type": "code",
   "execution_count": 4,
   "metadata": {},
   "outputs": [
    {
     "data": {
      "text/plain": [
       "array(['good', 'bad', 'good', 'good', 'bad', 'good'], dtype=object)"
      ]
     },
     "execution_count": 4,
     "metadata": {},
     "output_type": "execute_result"
    }
   ],
   "source": [
    "classe = credito.iloc[:,20].values\n",
    "classe[:6]"
   ]
  },
  {
   "cell_type": "code",
   "execution_count": 5,
   "metadata": {},
   "outputs": [],
   "source": [
    "# transformando as variáveis nominais em numéricas\n",
    "labelEncoder = LabelEncoder()\n",
    "previsores[:,0] = labelEncoder.fit_transform(previsores[:,0])\n",
    "previsores[:,2] = labelEncoder.fit_transform(previsores[:,2])\n",
    "previsores[:,3] = labelEncoder.fit_transform(previsores[:,3])\n",
    "previsores[:,5] = labelEncoder.fit_transform(previsores[:,5])\n",
    "previsores[:,6] = labelEncoder.fit_transform(previsores[:,6])\n",
    "previsores[:,8] = labelEncoder.fit_transform(previsores[:,8])\n",
    "previsores[:,9] = labelEncoder.fit_transform(previsores[:,9])\n",
    "previsores[:,11] = labelEncoder.fit_transform(previsores[:,11])\n",
    "previsores[:,13] = labelEncoder.fit_transform(previsores[:,13])\n",
    "previsores[:,14] = labelEncoder.fit_transform(previsores[:,14])\n",
    "previsores[:,16] = labelEncoder.fit_transform(previsores[:,16])\n",
    "previsores[:,18] = labelEncoder.fit_transform(previsores[:,18])\n",
    "previsores[:,19] = labelEncoder.fit_transform(previsores[:,19])"
   ]
  },
  {
   "cell_type": "code",
   "execution_count": 6,
   "metadata": {},
   "outputs": [
    {
     "data": {
      "text/html": [
       "<div>\n",
       "<style scoped>\n",
       "    .dataframe tbody tr th:only-of-type {\n",
       "        vertical-align: middle;\n",
       "    }\n",
       "\n",
       "    .dataframe tbody tr th {\n",
       "        vertical-align: top;\n",
       "    }\n",
       "\n",
       "    .dataframe thead th {\n",
       "        text-align: right;\n",
       "    }\n",
       "</style>\n",
       "<table border=\"1\" class=\"dataframe\">\n",
       "  <thead>\n",
       "    <tr style=\"text-align: right;\">\n",
       "      <th></th>\n",
       "      <th>0</th>\n",
       "      <th>1</th>\n",
       "      <th>2</th>\n",
       "      <th>3</th>\n",
       "      <th>4</th>\n",
       "      <th>5</th>\n",
       "      <th>6</th>\n",
       "      <th>7</th>\n",
       "      <th>8</th>\n",
       "      <th>9</th>\n",
       "      <th>10</th>\n",
       "      <th>11</th>\n",
       "      <th>12</th>\n",
       "      <th>13</th>\n",
       "      <th>14</th>\n",
       "      <th>15</th>\n",
       "      <th>16</th>\n",
       "      <th>17</th>\n",
       "      <th>18</th>\n",
       "      <th>19</th>\n",
       "    </tr>\n",
       "  </thead>\n",
       "  <tbody>\n",
       "    <tr>\n",
       "      <th>0</th>\n",
       "      <td>2</td>\n",
       "      <td>6</td>\n",
       "      <td>1</td>\n",
       "      <td>7</td>\n",
       "      <td>1169</td>\n",
       "      <td>0</td>\n",
       "      <td>3</td>\n",
       "      <td>4</td>\n",
       "      <td>3</td>\n",
       "      <td>2</td>\n",
       "      <td>4</td>\n",
       "      <td>2</td>\n",
       "      <td>67</td>\n",
       "      <td>1</td>\n",
       "      <td>1</td>\n",
       "      <td>2</td>\n",
       "      <td>3</td>\n",
       "      <td>1</td>\n",
       "      <td>1</td>\n",
       "      <td>1</td>\n",
       "    </tr>\n",
       "    <tr>\n",
       "      <th>1</th>\n",
       "      <td>1</td>\n",
       "      <td>48</td>\n",
       "      <td>3</td>\n",
       "      <td>7</td>\n",
       "      <td>5951</td>\n",
       "      <td>3</td>\n",
       "      <td>0</td>\n",
       "      <td>2</td>\n",
       "      <td>0</td>\n",
       "      <td>2</td>\n",
       "      <td>2</td>\n",
       "      <td>2</td>\n",
       "      <td>22</td>\n",
       "      <td>1</td>\n",
       "      <td>1</td>\n",
       "      <td>1</td>\n",
       "      <td>3</td>\n",
       "      <td>1</td>\n",
       "      <td>0</td>\n",
       "      <td>1</td>\n",
       "    </tr>\n",
       "    <tr>\n",
       "      <th>2</th>\n",
       "      <td>0</td>\n",
       "      <td>12</td>\n",
       "      <td>1</td>\n",
       "      <td>4</td>\n",
       "      <td>2096</td>\n",
       "      <td>3</td>\n",
       "      <td>1</td>\n",
       "      <td>2</td>\n",
       "      <td>3</td>\n",
       "      <td>2</td>\n",
       "      <td>3</td>\n",
       "      <td>2</td>\n",
       "      <td>49</td>\n",
       "      <td>1</td>\n",
       "      <td>1</td>\n",
       "      <td>1</td>\n",
       "      <td>2</td>\n",
       "      <td>2</td>\n",
       "      <td>0</td>\n",
       "      <td>1</td>\n",
       "    </tr>\n",
       "    <tr>\n",
       "      <th>3</th>\n",
       "      <td>2</td>\n",
       "      <td>42</td>\n",
       "      <td>3</td>\n",
       "      <td>5</td>\n",
       "      <td>7882</td>\n",
       "      <td>3</td>\n",
       "      <td>1</td>\n",
       "      <td>2</td>\n",
       "      <td>3</td>\n",
       "      <td>1</td>\n",
       "      <td>4</td>\n",
       "      <td>0</td>\n",
       "      <td>45</td>\n",
       "      <td>1</td>\n",
       "      <td>0</td>\n",
       "      <td>1</td>\n",
       "      <td>3</td>\n",
       "      <td>2</td>\n",
       "      <td>0</td>\n",
       "      <td>1</td>\n",
       "    </tr>\n",
       "    <tr>\n",
       "      <th>4</th>\n",
       "      <td>2</td>\n",
       "      <td>24</td>\n",
       "      <td>2</td>\n",
       "      <td>1</td>\n",
       "      <td>4870</td>\n",
       "      <td>3</td>\n",
       "      <td>0</td>\n",
       "      <td>3</td>\n",
       "      <td>3</td>\n",
       "      <td>2</td>\n",
       "      <td>4</td>\n",
       "      <td>1</td>\n",
       "      <td>53</td>\n",
       "      <td>1</td>\n",
       "      <td>0</td>\n",
       "      <td>2</td>\n",
       "      <td>3</td>\n",
       "      <td>2</td>\n",
       "      <td>0</td>\n",
       "      <td>1</td>\n",
       "    </tr>\n",
       "  </tbody>\n",
       "</table>\n",
       "</div>"
      ],
      "text/plain": [
       "  0   1  2  3     4  5  6  7  8  9  10 11  12 13 14 15 16 17 18 19\n",
       "0  2   6  1  7  1169  0  3  4  3  2  4  2  67  1  1  2  3  1  1  1\n",
       "1  1  48  3  7  5951  3  0  2  0  2  2  2  22  1  1  1  3  1  0  1\n",
       "2  0  12  1  4  2096  3  1  2  3  2  3  2  49  1  1  1  2  2  0  1\n",
       "3  2  42  3  5  7882  3  1  2  3  1  4  0  45  1  0  1  3  2  0  1\n",
       "4  2  24  2  1  4870  3  0  3  3  2  4  1  53  1  0  2  3  2  0  1"
      ]
     },
     "execution_count": 6,
     "metadata": {},
     "output_type": "execute_result"
    }
   ],
   "source": [
    "df = pandas.DataFrame(previsores)\n",
    "df.head()"
   ]
  },
  {
   "cell_type": "code",
   "execution_count": 7,
   "metadata": {},
   "outputs": [
    {
     "data": {
      "text/html": [
       "<div>\n",
       "<style scoped>\n",
       "    .dataframe tbody tr th:only-of-type {\n",
       "        vertical-align: middle;\n",
       "    }\n",
       "\n",
       "    .dataframe tbody tr th {\n",
       "        vertical-align: top;\n",
       "    }\n",
       "\n",
       "    .dataframe thead th {\n",
       "        text-align: right;\n",
       "    }\n",
       "</style>\n",
       "<table border=\"1\" class=\"dataframe\">\n",
       "  <thead>\n",
       "    <tr style=\"text-align: right;\">\n",
       "      <th></th>\n",
       "      <th>checking_status</th>\n",
       "      <th>duration</th>\n",
       "      <th>credit_history</th>\n",
       "      <th>purpose</th>\n",
       "      <th>credit_amount</th>\n",
       "      <th>savings_status</th>\n",
       "      <th>employment</th>\n",
       "      <th>installment_commitment</th>\n",
       "      <th>personal_status</th>\n",
       "      <th>other_parties</th>\n",
       "      <th>residence_since</th>\n",
       "      <th>property_magnitude</th>\n",
       "      <th>age</th>\n",
       "      <th>other_payment_plans</th>\n",
       "      <th>housing</th>\n",
       "      <th>existing_credits</th>\n",
       "      <th>job</th>\n",
       "      <th>num_dependents</th>\n",
       "      <th>own_telephone</th>\n",
       "      <th>foreign_worker</th>\n",
       "    </tr>\n",
       "  </thead>\n",
       "  <tbody>\n",
       "    <tr>\n",
       "      <th>0</th>\n",
       "      <td>2</td>\n",
       "      <td>6</td>\n",
       "      <td>1</td>\n",
       "      <td>7</td>\n",
       "      <td>1169</td>\n",
       "      <td>0</td>\n",
       "      <td>3</td>\n",
       "      <td>4</td>\n",
       "      <td>3</td>\n",
       "      <td>2</td>\n",
       "      <td>4</td>\n",
       "      <td>2</td>\n",
       "      <td>67</td>\n",
       "      <td>1</td>\n",
       "      <td>1</td>\n",
       "      <td>2</td>\n",
       "      <td>3</td>\n",
       "      <td>1</td>\n",
       "      <td>1</td>\n",
       "      <td>1</td>\n",
       "    </tr>\n",
       "    <tr>\n",
       "      <th>1</th>\n",
       "      <td>1</td>\n",
       "      <td>48</td>\n",
       "      <td>3</td>\n",
       "      <td>7</td>\n",
       "      <td>5951</td>\n",
       "      <td>3</td>\n",
       "      <td>0</td>\n",
       "      <td>2</td>\n",
       "      <td>0</td>\n",
       "      <td>2</td>\n",
       "      <td>2</td>\n",
       "      <td>2</td>\n",
       "      <td>22</td>\n",
       "      <td>1</td>\n",
       "      <td>1</td>\n",
       "      <td>1</td>\n",
       "      <td>3</td>\n",
       "      <td>1</td>\n",
       "      <td>0</td>\n",
       "      <td>1</td>\n",
       "    </tr>\n",
       "    <tr>\n",
       "      <th>2</th>\n",
       "      <td>0</td>\n",
       "      <td>12</td>\n",
       "      <td>1</td>\n",
       "      <td>4</td>\n",
       "      <td>2096</td>\n",
       "      <td>3</td>\n",
       "      <td>1</td>\n",
       "      <td>2</td>\n",
       "      <td>3</td>\n",
       "      <td>2</td>\n",
       "      <td>3</td>\n",
       "      <td>2</td>\n",
       "      <td>49</td>\n",
       "      <td>1</td>\n",
       "      <td>1</td>\n",
       "      <td>1</td>\n",
       "      <td>2</td>\n",
       "      <td>2</td>\n",
       "      <td>0</td>\n",
       "      <td>1</td>\n",
       "    </tr>\n",
       "    <tr>\n",
       "      <th>3</th>\n",
       "      <td>2</td>\n",
       "      <td>42</td>\n",
       "      <td>3</td>\n",
       "      <td>5</td>\n",
       "      <td>7882</td>\n",
       "      <td>3</td>\n",
       "      <td>1</td>\n",
       "      <td>2</td>\n",
       "      <td>3</td>\n",
       "      <td>1</td>\n",
       "      <td>4</td>\n",
       "      <td>0</td>\n",
       "      <td>45</td>\n",
       "      <td>1</td>\n",
       "      <td>0</td>\n",
       "      <td>1</td>\n",
       "      <td>3</td>\n",
       "      <td>2</td>\n",
       "      <td>0</td>\n",
       "      <td>1</td>\n",
       "    </tr>\n",
       "    <tr>\n",
       "      <th>4</th>\n",
       "      <td>2</td>\n",
       "      <td>24</td>\n",
       "      <td>2</td>\n",
       "      <td>1</td>\n",
       "      <td>4870</td>\n",
       "      <td>3</td>\n",
       "      <td>0</td>\n",
       "      <td>3</td>\n",
       "      <td>3</td>\n",
       "      <td>2</td>\n",
       "      <td>4</td>\n",
       "      <td>1</td>\n",
       "      <td>53</td>\n",
       "      <td>1</td>\n",
       "      <td>0</td>\n",
       "      <td>2</td>\n",
       "      <td>3</td>\n",
       "      <td>2</td>\n",
       "      <td>0</td>\n",
       "      <td>1</td>\n",
       "    </tr>\n",
       "  </tbody>\n",
       "</table>\n",
       "</div>"
      ],
      "text/plain": [
       "  checking_status duration credit_history purpose credit_amount  \\\n",
       "0               2        6              1       7          1169   \n",
       "1               1       48              3       7          5951   \n",
       "2               0       12              1       4          2096   \n",
       "3               2       42              3       5          7882   \n",
       "4               2       24              2       1          4870   \n",
       "\n",
       "  savings_status employment installment_commitment personal_status  \\\n",
       "0              0          3                      4               3   \n",
       "1              3          0                      2               0   \n",
       "2              3          1                      2               3   \n",
       "3              3          1                      2               3   \n",
       "4              3          0                      3               3   \n",
       "\n",
       "  other_parties residence_since property_magnitude age other_payment_plans  \\\n",
       "0             2               4                  2  67                   1   \n",
       "1             2               2                  2  22                   1   \n",
       "2             2               3                  2  49                   1   \n",
       "3             1               4                  0  45                   1   \n",
       "4             2               4                  1  53                   1   \n",
       "\n",
       "  housing existing_credits job num_dependents own_telephone foreign_worker  \n",
       "0       1                2   3              1             1              1  \n",
       "1       1                1   3              1             0              1  \n",
       "2       1                1   2              2             0              1  \n",
       "3       0                1   3              2             0              1  \n",
       "4       0                2   3              2             0              1  "
      ]
     },
     "execution_count": 7,
     "metadata": {},
     "output_type": "execute_result"
    }
   ],
   "source": [
    "df.columns = credito.columns[:20]\n",
    "df.head()"
   ]
  },
  {
   "cell_type": "code",
   "execution_count": 8,
   "metadata": {},
   "outputs": [],
   "source": [
    "x_treinamento, x_teste, y_treinamento, y_test = train_test_split(previsores,\n",
    "                                                                 classe,\n",
    "                                                                 test_size=0.3,\n",
    "                                                                 random_state=0)"
   ]
  },
  {
   "cell_type": "code",
   "execution_count": 9,
   "metadata": {},
   "outputs": [
    {
     "data": {
      "text/plain": [
       "array([[1, 24, 1, 6, 11938, 3, 0, 2, 3, 0, 3, 3, 39, 1, 1, 2, 0, 2, 1, 1],\n",
       "       [0, 36, 3, 4, 1819, 3, 0, 4, 3, 2, 4, 1, 37, 2, 0, 1, 3, 1, 1, 1],\n",
       "       [2, 15, 1, 5, 1478, 3, 3, 4, 3, 2, 4, 3, 44, 1, 1, 2, 3, 2, 1, 1],\n",
       "       [0, 24, 1, 7, 1516, 4, 0, 4, 0, 2, 1, 2, 43, 1, 1, 2, 2, 1, 0, 1],\n",
       "       [2, 9, 3, 5, 2136, 3, 0, 3, 3, 2, 2, 2, 25, 1, 1, 1, 3, 1, 0, 1],\n",
       "       [0, 15, 3, 2, 3812, 1, 2, 1, 0, 2, 4, 3, 23, 1, 1, 1, 3, 1, 1, 1]],\n",
       "      dtype=object)"
      ]
     },
     "execution_count": 9,
     "metadata": {},
     "output_type": "execute_result"
    }
   ],
   "source": [
    "x_treinamento[:6]"
   ]
  },
  {
   "cell_type": "code",
   "execution_count": 10,
   "metadata": {},
   "outputs": [
    {
     "data": {
      "text/plain": [
       "array(['bad', 'bad', 'good', 'good', 'good', 'good'], dtype=object)"
      ]
     },
     "execution_count": 10,
     "metadata": {},
     "output_type": "execute_result"
    }
   ],
   "source": [
    "y_treinamento[:6]"
   ]
  },
  {
   "cell_type": "code",
   "execution_count": 11,
   "metadata": {},
   "outputs": [
    {
     "name": "stdout",
     "output_type": "stream",
     "text": [
      "(700, 20)\n",
      "(700,)\n",
      "(300, 20)\n",
      "(300,)\n"
     ]
    }
   ],
   "source": [
    "print(x_treinamento.shape)\n",
    "print(y_treinamento.shape)\n",
    "print(x_teste.shape)\n",
    "print(y_test.shape)"
   ]
  },
  {
   "cell_type": "code",
   "execution_count": 12,
   "metadata": {},
   "outputs": [
    {
     "data": {
      "text/plain": [
       "GaussianNB(priors=None, var_smoothing=1e-09)"
      ]
     },
     "execution_count": 12,
     "metadata": {},
     "output_type": "execute_result"
    }
   ],
   "source": [
    "naive_bayes = GaussianNB()\n",
    "naive_bayes.fit(x_treinamento, y_treinamento)"
   ]
  },
  {
   "cell_type": "code",
   "execution_count": 13,
   "metadata": {},
   "outputs": [
    {
     "data": {
      "text/plain": [
       "array(['bad', 'good', 'good', 'good', 'bad', 'good', 'good', 'good',\n",
       "       'good', 'bad'], dtype='<U4')"
      ]
     },
     "execution_count": 13,
     "metadata": {},
     "output_type": "execute_result"
    }
   ],
   "source": [
    "previsoes = naive_bayes.predict(x_teste)\n",
    "previsoes[:10]"
   ]
  },
  {
   "cell_type": "code",
   "execution_count": 14,
   "metadata": {},
   "outputs": [
    {
     "data": {
      "text/plain": [
       "array([[ 41,  45],\n",
       "       [ 42, 172]])"
      ]
     },
     "execution_count": 14,
     "metadata": {},
     "output_type": "execute_result"
    }
   ],
   "source": [
    "confusao = confusion_matrix(y_test, previsoes)\n",
    "confusao\n",
    "# 45 falsos negativos\n",
    "# 42 falsos positivos"
   ]
  },
  {
   "cell_type": "code",
   "execution_count": 15,
   "metadata": {},
   "outputs": [
    {
     "data": {
      "text/plain": [
       "0.71"
      ]
     },
     "execution_count": 15,
     "metadata": {},
     "output_type": "execute_result"
    }
   ],
   "source": [
    "taxe_de_acerto = accuracy_score(y_test, previsoes)\n",
    "taxe_de_acerto"
   ]
  },
  {
   "cell_type": "markdown",
   "metadata": {},
   "source": [
    "   #### 1.2 Árvore de decisão"
   ]
  },
  {
   "cell_type": "code",
   "execution_count": 16,
   "metadata": {},
   "outputs": [],
   "source": [
    "from sklearn.tree import DecisionTreeClassifier"
   ]
  },
  {
   "cell_type": "code",
   "execution_count": 17,
   "metadata": {},
   "outputs": [
    {
     "data": {
      "text/plain": [
       "array(['bad', 'bad', 'good', 'good', 'good', 'good', 'good'], dtype=object)"
      ]
     },
     "execution_count": 17,
     "metadata": {},
     "output_type": "execute_result"
    }
   ],
   "source": [
    "tree = DecisionTreeClassifier()\n",
    "tree.fit(x_treinamento, y_treinamento)\n",
    "previsoes = tree.predict(x_teste)\n",
    "previsoes[:7]"
   ]
  },
  {
   "cell_type": "code",
   "execution_count": 18,
   "metadata": {},
   "outputs": [
    {
     "data": {
      "text/plain": [
       "array([[ 48,  38],\n",
       "       [ 49, 165]])"
      ]
     },
     "execution_count": 18,
     "metadata": {},
     "output_type": "execute_result"
    }
   ],
   "source": [
    "confusao = confusion_matrix(y_test, previsoes)\n",
    "confusao"
   ]
  },
  {
   "cell_type": "code",
   "execution_count": 19,
   "metadata": {},
   "outputs": [
    {
     "data": {
      "text/plain": [
       "0.71"
      ]
     },
     "execution_count": 19,
     "metadata": {},
     "output_type": "execute_result"
    }
   ],
   "source": [
    "taxe_de_acerto = accuracy_score(y_test, previsoes)\n",
    "taxe_de_acerto"
   ]
  },
  {
   "cell_type": "markdown",
   "metadata": {},
   "source": [
    "   #### 1.3 SVM"
   ]
  },
  {
   "cell_type": "code",
   "execution_count": 20,
   "metadata": {},
   "outputs": [],
   "source": [
    "from sklearn.svm import SVC \n",
    "from sklearn.ensemble import ExtraTreesClassifier"
   ]
  },
  {
   "cell_type": "code",
   "execution_count": 21,
   "metadata": {},
   "outputs": [
    {
     "name": "stderr",
     "output_type": "stream",
     "text": [
      "/home/obi-wan/python_environments/jupyter/lib/python3.5/site-packages/sklearn/svm/base.py:196: FutureWarning: The default value of gamma will change from 'auto' to 'scale' in version 0.22 to account better for unscaled features. Set gamma explicitly to 'auto' or 'scale' to avoid this warning.\n",
      "  \"avoid this warning.\", FutureWarning)\n"
     ]
    },
    {
     "data": {
      "text/plain": [
       "0.7133333333333334"
      ]
     },
     "execution_count": 21,
     "metadata": {},
     "output_type": "execute_result"
    }
   ],
   "source": [
    "svm = SVC()\n",
    "svm.fit(x_treinamento, y_treinamento)\n",
    "previsoes = svm.predict(x_teste)\n",
    "taxa_de_acerto = accuracy_score(y_test, previsoes)\n",
    "taxa_de_acerto"
   ]
  },
  {
   "cell_type": "code",
   "execution_count": 22,
   "metadata": {},
   "outputs": [
    {
     "data": {
      "text/plain": [
       "array([[  0,  86],\n",
       "       [  0, 214]])"
      ]
     },
     "execution_count": 22,
     "metadata": {},
     "output_type": "execute_result"
    }
   ],
   "source": [
    "confusao = confusion_matrix(y_test, previsoes)\n",
    "confusao"
   ]
  },
  {
   "cell_type": "code",
   "execution_count": 23,
   "metadata": {},
   "outputs": [
    {
     "name": "stderr",
     "output_type": "stream",
     "text": [
      "/home/obi-wan/python_environments/jupyter/lib/python3.5/site-packages/sklearn/ensemble/forest.py:246: FutureWarning: The default value of n_estimators will change from 10 in version 0.20 to 100 in 0.22.\n",
      "  \"10 in version 0.20 to 100 in 0.22.\", FutureWarning)\n"
     ]
    },
    {
     "data": {
      "text/plain": [
       "array([0.11222385, 0.08094649, 0.05551139, 0.06618765, 0.08401891,\n",
       "       0.05336768, 0.05636692, 0.05102317, 0.04283863, 0.02543084,\n",
       "       0.05740487, 0.04910079, 0.06398167, 0.03917658, 0.04084224,\n",
       "       0.03284721, 0.03787289, 0.01952585, 0.02439267, 0.00693971])"
      ]
     },
     "execution_count": 23,
     "metadata": {},
     "output_type": "execute_result"
    }
   ],
   "source": [
    "# verificando importancia dos atributos\n",
    "forest = ExtraTreesClassifier()\n",
    "forest.fit(x_treinamento, y_treinamento)\n",
    "importancias = forest.feature_importances_\n",
    "importancias"
   ]
  },
  {
   "cell_type": "code",
   "execution_count": 24,
   "metadata": {},
   "outputs": [],
   "source": [
    "x_train2 = x_treinamento[:,0:4]\n",
    "x_teste2 = x_teste[:,0:4]"
   ]
  },
  {
   "cell_type": "code",
   "execution_count": 25,
   "metadata": {},
   "outputs": [
    {
     "name": "stderr",
     "output_type": "stream",
     "text": [
      "/home/obi-wan/python_environments/jupyter/lib/python3.5/site-packages/sklearn/svm/base.py:196: FutureWarning: The default value of gamma will change from 'auto' to 'scale' in version 0.22 to account better for unscaled features. Set gamma explicitly to 'auto' or 'scale' to avoid this warning.\n",
      "  \"avoid this warning.\", FutureWarning)\n"
     ]
    },
    {
     "data": {
      "text/plain": [
       "0.7266666666666667"
      ]
     },
     "execution_count": 25,
     "metadata": {},
     "output_type": "execute_result"
    }
   ],
   "source": [
    "svm2 = SVC()\n",
    "svm2.fit(x_train2, y_treinamento)\n",
    "previsoes2 = svm2.predict(x_teste2)\n",
    "taxa_de_acerto2 = accuracy_score(y_test, previsoes2)\n",
    "taxa_de_acerto2"
   ]
  },
  {
   "cell_type": "code",
   "execution_count": 26,
   "metadata": {},
   "outputs": [
    {
     "data": {
      "text/plain": [
       "array([[ 24,  62],\n",
       "       [ 20, 194]])"
      ]
     },
     "execution_count": 26,
     "metadata": {},
     "output_type": "execute_result"
    }
   ],
   "source": [
    "confusao = confusion_matrix(y_test, previsoes2)\n",
    "confusao"
   ]
  },
  {
   "cell_type": "markdown",
   "metadata": {},
   "source": [
    "   #### 1.4 KNN"
   ]
  },
  {
   "cell_type": "code",
   "execution_count": 27,
   "metadata": {},
   "outputs": [],
   "source": [
    "from sklearn.neighbors import KNeighborsClassifier\n",
    "from sklearn import datasets\n",
    "from scipy import stats"
   ]
  },
  {
   "cell_type": "code",
   "execution_count": 28,
   "metadata": {},
   "outputs": [
    {
     "data": {
      "text/plain": [
       "DescribeResult(nobs=150, minmax=(array([4.3, 2. , 1. , 0.1]), array([7.9, 4.4, 6.9, 2.5])), mean=array([5.84333333, 3.05733333, 3.758     , 1.19933333]), variance=array([0.68569351, 0.18997942, 3.11627785, 0.58100626]), skewness=array([ 0.31175306,  0.31576711, -0.27212767, -0.10193421]), kurtosis=array([-0.57356795,  0.18097632, -1.39553589, -1.33606741]))"
      ]
     },
     "execution_count": 28,
     "metadata": {},
     "output_type": "execute_result"
    }
   ],
   "source": [
    "iris = datasets.load_iris()\n",
    "stats.describe(iris.data)"
   ]
  },
  {
   "cell_type": "code",
   "execution_count": 29,
   "metadata": {},
   "outputs": [],
   "source": [
    "previsores = iris.data\n",
    "classe = iris.target"
   ]
  },
  {
   "cell_type": "code",
   "execution_count": 30,
   "metadata": {},
   "outputs": [
    {
     "data": {
      "text/plain": [
       "array([[5.1, 3.5, 1.4, 0.2],\n",
       "       [4.9, 3. , 1.4, 0.2],\n",
       "       [4.7, 3.2, 1.3, 0.2],\n",
       "       [4.6, 3.1, 1.5, 0.2],\n",
       "       [5. , 3.6, 1.4, 0.2],\n",
       "       [5.4, 3.9, 1.7, 0.4],\n",
       "       [4.6, 3.4, 1.4, 0.3],\n",
       "       [5. , 3.4, 1.5, 0.2],\n",
       "       [4.4, 2.9, 1.4, 0.2],\n",
       "       [4.9, 3.1, 1.5, 0.1],\n",
       "       [5.4, 3.7, 1.5, 0.2],\n",
       "       [4.8, 3.4, 1.6, 0.2],\n",
       "       [4.8, 3. , 1.4, 0.1],\n",
       "       [4.3, 3. , 1.1, 0.1],\n",
       "       [5.8, 4. , 1.2, 0.2],\n",
       "       [5.7, 4.4, 1.5, 0.4],\n",
       "       [5.4, 3.9, 1.3, 0.4],\n",
       "       [5.1, 3.5, 1.4, 0.3],\n",
       "       [5.7, 3.8, 1.7, 0.3],\n",
       "       [5.1, 3.8, 1.5, 0.3],\n",
       "       [5.4, 3.4, 1.7, 0.2],\n",
       "       [5.1, 3.7, 1.5, 0.4],\n",
       "       [4.6, 3.6, 1. , 0.2],\n",
       "       [5.1, 3.3, 1.7, 0.5],\n",
       "       [4.8, 3.4, 1.9, 0.2],\n",
       "       [5. , 3. , 1.6, 0.2],\n",
       "       [5. , 3.4, 1.6, 0.4],\n",
       "       [5.2, 3.5, 1.5, 0.2],\n",
       "       [5.2, 3.4, 1.4, 0.2],\n",
       "       [4.7, 3.2, 1.6, 0.2],\n",
       "       [4.8, 3.1, 1.6, 0.2],\n",
       "       [5.4, 3.4, 1.5, 0.4],\n",
       "       [5.2, 4.1, 1.5, 0.1],\n",
       "       [5.5, 4.2, 1.4, 0.2],\n",
       "       [4.9, 3.1, 1.5, 0.2],\n",
       "       [5. , 3.2, 1.2, 0.2],\n",
       "       [5.5, 3.5, 1.3, 0.2],\n",
       "       [4.9, 3.6, 1.4, 0.1],\n",
       "       [4.4, 3. , 1.3, 0.2],\n",
       "       [5.1, 3.4, 1.5, 0.2],\n",
       "       [5. , 3.5, 1.3, 0.3],\n",
       "       [4.5, 2.3, 1.3, 0.3],\n",
       "       [4.4, 3.2, 1.3, 0.2],\n",
       "       [5. , 3.5, 1.6, 0.6],\n",
       "       [5.1, 3.8, 1.9, 0.4],\n",
       "       [4.8, 3. , 1.4, 0.3],\n",
       "       [5.1, 3.8, 1.6, 0.2],\n",
       "       [4.6, 3.2, 1.4, 0.2],\n",
       "       [5.3, 3.7, 1.5, 0.2],\n",
       "       [5. , 3.3, 1.4, 0.2],\n",
       "       [7. , 3.2, 4.7, 1.4],\n",
       "       [6.4, 3.2, 4.5, 1.5],\n",
       "       [6.9, 3.1, 4.9, 1.5],\n",
       "       [5.5, 2.3, 4. , 1.3],\n",
       "       [6.5, 2.8, 4.6, 1.5],\n",
       "       [5.7, 2.8, 4.5, 1.3],\n",
       "       [6.3, 3.3, 4.7, 1.6],\n",
       "       [4.9, 2.4, 3.3, 1. ],\n",
       "       [6.6, 2.9, 4.6, 1.3],\n",
       "       [5.2, 2.7, 3.9, 1.4],\n",
       "       [5. , 2. , 3.5, 1. ],\n",
       "       [5.9, 3. , 4.2, 1.5],\n",
       "       [6. , 2.2, 4. , 1. ],\n",
       "       [6.1, 2.9, 4.7, 1.4],\n",
       "       [5.6, 2.9, 3.6, 1.3],\n",
       "       [6.7, 3.1, 4.4, 1.4],\n",
       "       [5.6, 3. , 4.5, 1.5],\n",
       "       [5.8, 2.7, 4.1, 1. ],\n",
       "       [6.2, 2.2, 4.5, 1.5],\n",
       "       [5.6, 2.5, 3.9, 1.1],\n",
       "       [5.9, 3.2, 4.8, 1.8],\n",
       "       [6.1, 2.8, 4. , 1.3],\n",
       "       [6.3, 2.5, 4.9, 1.5],\n",
       "       [6.1, 2.8, 4.7, 1.2],\n",
       "       [6.4, 2.9, 4.3, 1.3],\n",
       "       [6.6, 3. , 4.4, 1.4],\n",
       "       [6.8, 2.8, 4.8, 1.4],\n",
       "       [6.7, 3. , 5. , 1.7],\n",
       "       [6. , 2.9, 4.5, 1.5],\n",
       "       [5.7, 2.6, 3.5, 1. ],\n",
       "       [5.5, 2.4, 3.8, 1.1],\n",
       "       [5.5, 2.4, 3.7, 1. ],\n",
       "       [5.8, 2.7, 3.9, 1.2],\n",
       "       [6. , 2.7, 5.1, 1.6],\n",
       "       [5.4, 3. , 4.5, 1.5],\n",
       "       [6. , 3.4, 4.5, 1.6],\n",
       "       [6.7, 3.1, 4.7, 1.5],\n",
       "       [6.3, 2.3, 4.4, 1.3],\n",
       "       [5.6, 3. , 4.1, 1.3],\n",
       "       [5.5, 2.5, 4. , 1.3],\n",
       "       [5.5, 2.6, 4.4, 1.2],\n",
       "       [6.1, 3. , 4.6, 1.4],\n",
       "       [5.8, 2.6, 4. , 1.2],\n",
       "       [5. , 2.3, 3.3, 1. ],\n",
       "       [5.6, 2.7, 4.2, 1.3],\n",
       "       [5.7, 3. , 4.2, 1.2],\n",
       "       [5.7, 2.9, 4.2, 1.3],\n",
       "       [6.2, 2.9, 4.3, 1.3],\n",
       "       [5.1, 2.5, 3. , 1.1],\n",
       "       [5.7, 2.8, 4.1, 1.3],\n",
       "       [6.3, 3.3, 6. , 2.5],\n",
       "       [5.8, 2.7, 5.1, 1.9],\n",
       "       [7.1, 3. , 5.9, 2.1],\n",
       "       [6.3, 2.9, 5.6, 1.8],\n",
       "       [6.5, 3. , 5.8, 2.2],\n",
       "       [7.6, 3. , 6.6, 2.1],\n",
       "       [4.9, 2.5, 4.5, 1.7],\n",
       "       [7.3, 2.9, 6.3, 1.8],\n",
       "       [6.7, 2.5, 5.8, 1.8],\n",
       "       [7.2, 3.6, 6.1, 2.5],\n",
       "       [6.5, 3.2, 5.1, 2. ],\n",
       "       [6.4, 2.7, 5.3, 1.9],\n",
       "       [6.8, 3. , 5.5, 2.1],\n",
       "       [5.7, 2.5, 5. , 2. ],\n",
       "       [5.8, 2.8, 5.1, 2.4],\n",
       "       [6.4, 3.2, 5.3, 2.3],\n",
       "       [6.5, 3. , 5.5, 1.8],\n",
       "       [7.7, 3.8, 6.7, 2.2],\n",
       "       [7.7, 2.6, 6.9, 2.3],\n",
       "       [6. , 2.2, 5. , 1.5],\n",
       "       [6.9, 3.2, 5.7, 2.3],\n",
       "       [5.6, 2.8, 4.9, 2. ],\n",
       "       [7.7, 2.8, 6.7, 2. ],\n",
       "       [6.3, 2.7, 4.9, 1.8],\n",
       "       [6.7, 3.3, 5.7, 2.1],\n",
       "       [7.2, 3.2, 6. , 1.8],\n",
       "       [6.2, 2.8, 4.8, 1.8],\n",
       "       [6.1, 3. , 4.9, 1.8],\n",
       "       [6.4, 2.8, 5.6, 2.1],\n",
       "       [7.2, 3. , 5.8, 1.6],\n",
       "       [7.4, 2.8, 6.1, 1.9],\n",
       "       [7.9, 3.8, 6.4, 2. ],\n",
       "       [6.4, 2.8, 5.6, 2.2],\n",
       "       [6.3, 2.8, 5.1, 1.5],\n",
       "       [6.1, 2.6, 5.6, 1.4],\n",
       "       [7.7, 3. , 6.1, 2.3],\n",
       "       [6.3, 3.4, 5.6, 2.4],\n",
       "       [6.4, 3.1, 5.5, 1.8],\n",
       "       [6. , 3. , 4.8, 1.8],\n",
       "       [6.9, 3.1, 5.4, 2.1],\n",
       "       [6.7, 3.1, 5.6, 2.4],\n",
       "       [6.9, 3.1, 5.1, 2.3],\n",
       "       [5.8, 2.7, 5.1, 1.9],\n",
       "       [6.8, 3.2, 5.9, 2.3],\n",
       "       [6.7, 3.3, 5.7, 2.5],\n",
       "       [6.7, 3. , 5.2, 2.3],\n",
       "       [6.3, 2.5, 5. , 1.9],\n",
       "       [6.5, 3. , 5.2, 2. ],\n",
       "       [6.2, 3.4, 5.4, 2.3],\n",
       "       [5.9, 3. , 5.1, 1.8]])"
      ]
     },
     "execution_count": 30,
     "metadata": {},
     "output_type": "execute_result"
    }
   ],
   "source": [
    "previsores"
   ]
  },
  {
   "cell_type": "code",
   "execution_count": 31,
   "metadata": {},
   "outputs": [
    {
     "data": {
      "text/plain": [
       "array([0, 0, 0, 0, 0, 0, 0, 0, 0, 0, 0, 0, 0, 0, 0, 0, 0, 0, 0, 0, 0, 0,\n",
       "       0, 0, 0, 0, 0, 0, 0, 0, 0, 0, 0, 0, 0, 0, 0, 0, 0, 0, 0, 0, 0, 0,\n",
       "       0, 0, 0, 0, 0, 0, 1, 1, 1, 1, 1, 1, 1, 1, 1, 1, 1, 1, 1, 1, 1, 1,\n",
       "       1, 1, 1, 1, 1, 1, 1, 1, 1, 1, 1, 1, 1, 1, 1, 1, 1, 1, 1, 1, 1, 1,\n",
       "       1, 1, 1, 1, 1, 1, 1, 1, 1, 1, 1, 1, 2, 2, 2, 2, 2, 2, 2, 2, 2, 2,\n",
       "       2, 2, 2, 2, 2, 2, 2, 2, 2, 2, 2, 2, 2, 2, 2, 2, 2, 2, 2, 2, 2, 2,\n",
       "       2, 2, 2, 2, 2, 2, 2, 2, 2, 2, 2, 2, 2, 2, 2, 2, 2, 2])"
      ]
     },
     "execution_count": 31,
     "metadata": {},
     "output_type": "execute_result"
    }
   ],
   "source": [
    "classe"
   ]
  },
  {
   "cell_type": "code",
   "execution_count": 32,
   "metadata": {},
   "outputs": [],
   "source": [
    "x_treinamento2, x_test2, y_treinamento2, y_test2 = train_test_split(previsores, classe,\n",
    "                                                                test_size=0.3,\n",
    "                                                                random_state=0)"
   ]
  },
  {
   "cell_type": "code",
   "execution_count": 33,
   "metadata": {},
   "outputs": [
    {
     "data": {
      "text/plain": [
       "KNeighborsClassifier(algorithm='auto', leaf_size=30, metric='minkowski',\n",
       "           metric_params=None, n_jobs=None, n_neighbors=3, p=2,\n",
       "           weights='uniform')"
      ]
     },
     "execution_count": 33,
     "metadata": {},
     "output_type": "execute_result"
    }
   ],
   "source": [
    "knn = KNeighborsClassifier(n_neighbors=3)\n",
    "knn.fit(x_treinamento2, y_treinamento2)"
   ]
  },
  {
   "cell_type": "code",
   "execution_count": 34,
   "metadata": {},
   "outputs": [],
   "source": [
    "previsoes = knn.predict(x_test2)\n",
    "confusao = confusion_matrix(y_test2, previsoes)\n",
    "taxa_de_acerto = accuracy_score(y_test2, previsoes)"
   ]
  },
  {
   "cell_type": "code",
   "execution_count": 35,
   "metadata": {},
   "outputs": [
    {
     "data": {
      "text/plain": [
       "array([[16,  0,  0],\n",
       "       [ 0, 17,  1],\n",
       "       [ 0,  0, 11]])"
      ]
     },
     "execution_count": 35,
     "metadata": {},
     "output_type": "execute_result"
    }
   ],
   "source": [
    "confusao"
   ]
  },
  {
   "cell_type": "code",
   "execution_count": 36,
   "metadata": {},
   "outputs": [
    {
     "data": {
      "text/plain": [
       "0.9777777777777777"
      ]
     },
     "execution_count": 36,
     "metadata": {},
     "output_type": "execute_result"
    }
   ],
   "source": [
    "taxa_de_acerto"
   ]
  },
  {
   "cell_type": "markdown",
   "metadata": {},
   "source": [
    "   #### 1.5 Random Forest"
   ]
  },
  {
   "cell_type": "code",
   "execution_count": 37,
   "metadata": {},
   "outputs": [],
   "source": [
    "from sklearn.ensemble import RandomForestClassifier"
   ]
  },
  {
   "cell_type": "code",
   "execution_count": 38,
   "metadata": {},
   "outputs": [
    {
     "data": {
      "text/plain": [
       "RandomForestClassifier(bootstrap=True, class_weight=None, criterion='gini',\n",
       "            max_depth=None, max_features='auto', max_leaf_nodes=None,\n",
       "            min_impurity_decrease=0.0, min_impurity_split=None,\n",
       "            min_samples_leaf=1, min_samples_split=2,\n",
       "            min_weight_fraction_leaf=0.0, n_estimators=100, n_jobs=None,\n",
       "            oob_score=False, random_state=None, verbose=0,\n",
       "            warm_start=False)"
      ]
     },
     "execution_count": 38,
     "metadata": {},
     "output_type": "execute_result"
    }
   ],
   "source": [
    "forest = RandomForestClassifier(n_estimators=100)\n",
    "forest.fit(x_treinamento, y_treinamento)"
   ]
  },
  {
   "cell_type": "code",
   "execution_count": 39,
   "metadata": {},
   "outputs": [],
   "source": [
    "previsoes = forest.predict(x_teste)\n",
    "confusao = confusion_matrix(y_test, previsoes)\n",
    "taxa_acerto = accuracy_score(y_test, previsoes)"
   ]
  },
  {
   "cell_type": "code",
   "execution_count": 40,
   "metadata": {},
   "outputs": [
    {
     "data": {
      "text/plain": [
       "array([[ 41,  45],\n",
       "       [ 17, 197]])"
      ]
     },
     "execution_count": 40,
     "metadata": {},
     "output_type": "execute_result"
    }
   ],
   "source": [
    "confusao"
   ]
  },
  {
   "cell_type": "code",
   "execution_count": 41,
   "metadata": {},
   "outputs": [
    {
     "data": {
      "text/plain": [
       "0.7933333333333333"
      ]
     },
     "execution_count": 41,
     "metadata": {},
     "output_type": "execute_result"
    }
   ],
   "source": [
    "taxa_acerto"
   ]
  },
  {
   "cell_type": "code",
   "execution_count": 42,
   "metadata": {},
   "outputs": [
    {
     "data": {
      "text/plain": [
       "DecisionTreeClassifier(class_weight=None, criterion='gini', max_depth=None,\n",
       "            max_features='auto', max_leaf_nodes=None,\n",
       "            min_impurity_decrease=0.0, min_impurity_split=None,\n",
       "            min_samples_leaf=1, min_samples_split=2,\n",
       "            min_weight_fraction_leaf=0.0, presort=False,\n",
       "            random_state=1699714996, splitter='best')"
      ]
     },
     "execution_count": 42,
     "metadata": {},
     "output_type": "execute_result"
    }
   ],
   "source": [
    "# visualizando as arvores\n",
    "forest.estimators_[1]"
   ]
  },
  {
   "cell_type": "markdown",
   "metadata": {},
   "source": [
    "  ### 2. Agrupamento\n",
    "  \n",
    "   - Organiza as instâncias dos dados em grupos, a partir de alguma relação matemática\n",
    "   - Não existe classe, não procura prever nada.\n",
    "   - Exemplo: identificar grupos de clientes e direcionar campanhas de marketing específicas\n",
    "   - Tipos\n",
    "     - Agrupamento completo: cada elemento pertence apenas a um grupo\n",
    "     - Agrupamento parcial: cada elemento pode pertencer a mais de um grupo\n",
    "     - Modelo difuso → cada elemento pertence a um grupo segundo alguma probabilidade\n",
    "     - Modelo hierárquico: permite que grupos tenham subgrupos\n",
    "   - Pode ser que todo os elementos sejam colocados em grupos, como também poder ser que alguns elementos fiquem de fora(ruídos)\n",
    "   - Algoritimos\n",
    "     - K-Means -> agrupa todos os lementos\n",
    "     - K-Medoid → agrupa todos os elementos\n",
    "     - Dbscan → pode não agrupar todos elementos, deixando ruidos de fora\n",
    "   \n",
    "   #### 2.1 K-Means"
   ]
  },
  {
   "cell_type": "code",
   "execution_count": 43,
   "metadata": {},
   "outputs": [],
   "source": [
    "from sklearn import datasets\n",
    "import numpy\n",
    "from sklearn.metrics import confusion_matrix\n",
    "import matplotlib.pyplot as plt \n",
    "from sklearn.cluster import KMeans"
   ]
  },
  {
   "cell_type": "code",
   "execution_count": 44,
   "metadata": {},
   "outputs": [
    {
     "data": {
      "text/plain": [
       "array([50, 50, 50])"
      ]
     },
     "execution_count": 44,
     "metadata": {},
     "output_type": "execute_result"
    }
   ],
   "source": [
    "iris = datasets.load_iris()\n",
    "unicos, quantidade = numpy.unique(iris.target, return_counts = True)\n",
    "quantidade"
   ]
  },
  {
   "cell_type": "code",
   "execution_count": 45,
   "metadata": {},
   "outputs": [
    {
     "data": {
      "text/plain": [
       "array([0, 1, 2])"
      ]
     },
     "execution_count": 45,
     "metadata": {},
     "output_type": "execute_result"
    }
   ],
   "source": [
    "unicos"
   ]
  },
  {
   "cell_type": "code",
   "execution_count": 46,
   "metadata": {},
   "outputs": [
    {
     "data": {
      "text/plain": [
       "KMeans(algorithm='auto', copy_x=True, init='k-means++', max_iter=300,\n",
       "    n_clusters=3, n_init=10, n_jobs=None, precompute_distances='auto',\n",
       "    random_state=None, tol=0.0001, verbose=0)"
      ]
     },
     "execution_count": 46,
     "metadata": {},
     "output_type": "execute_result"
    }
   ],
   "source": [
    "cluester = KMeans(n_clusters=3)\n",
    "cluester.fit(iris.data)"
   ]
  },
  {
   "cell_type": "code",
   "execution_count": 47,
   "metadata": {},
   "outputs": [
    {
     "data": {
      "text/plain": [
       "array([[5.9016129 , 2.7483871 , 4.39354839, 1.43387097],\n",
       "       [5.006     , 3.428     , 1.462     , 0.246     ],\n",
       "       [6.85      , 3.07368421, 5.74210526, 2.07105263]])"
      ]
     },
     "execution_count": 47,
     "metadata": {},
     "output_type": "execute_result"
    }
   ],
   "source": [
    "centroides = cluester.cluster_centers_\n",
    "centroides"
   ]
  },
  {
   "cell_type": "code",
   "execution_count": 48,
   "metadata": {},
   "outputs": [
    {
     "data": {
      "text/plain": [
       "array([1, 1, 1, 1, 1, 1, 1, 1, 1, 1, 1, 1, 1, 1, 1, 1, 1, 1, 1, 1, 1, 1,\n",
       "       1, 1, 1, 1, 1, 1, 1, 1, 1, 1, 1, 1, 1, 1, 1, 1, 1, 1, 1, 1, 1, 1,\n",
       "       1, 1, 1, 1, 1, 1, 0, 0, 2, 0, 0, 0, 0, 0, 0, 0, 0, 0, 0, 0, 0, 0,\n",
       "       0, 0, 0, 0, 0, 0, 0, 0, 0, 0, 0, 2, 0, 0, 0, 0, 0, 0, 0, 0, 0, 0,\n",
       "       0, 0, 0, 0, 0, 0, 0, 0, 0, 0, 0, 0, 2, 0, 2, 2, 2, 2, 0, 2, 2, 2,\n",
       "       2, 2, 2, 0, 0, 2, 2, 2, 2, 0, 2, 0, 2, 0, 2, 2, 0, 0, 2, 2, 2, 2,\n",
       "       2, 0, 2, 2, 2, 2, 0, 2, 2, 2, 0, 2, 2, 2, 0, 2, 2, 0], dtype=int32)"
      ]
     },
     "execution_count": 48,
     "metadata": {},
     "output_type": "execute_result"
    }
   ],
   "source": [
    "previsoes = cluester.labels_\n",
    "previsoes"
   ]
  },
  {
   "cell_type": "code",
   "execution_count": 49,
   "metadata": {},
   "outputs": [
    {
     "data": {
      "text/plain": [
       "array([62, 50, 38])"
      ]
     },
     "execution_count": 49,
     "metadata": {},
     "output_type": "execute_result"
    }
   ],
   "source": [
    "unicos2, quantidade2 = numpy.unique(previsoes, return_counts = True)\n",
    "quantidade2"
   ]
  },
  {
   "cell_type": "code",
   "execution_count": 50,
   "metadata": {},
   "outputs": [
    {
     "data": {
      "text/plain": [
       "array([[ 0, 50,  0],\n",
       "       [48,  0,  2],\n",
       "       [14,  0, 36]])"
      ]
     },
     "execution_count": 50,
     "metadata": {},
     "output_type": "execute_result"
    }
   ],
   "source": [
    "resultados = confusion_matrix(iris.target, previsoes)\n",
    "resultados"
   ]
  },
  {
   "cell_type": "code",
   "execution_count": 51,
   "metadata": {},
   "outputs": [
    {
     "data": {
      "text/plain": [
       "<matplotlib.legend.Legend at 0x7f0155f38f60>"
      ]
     },
     "execution_count": 51,
     "metadata": {},
     "output_type": "execute_result"
    },
    {
     "data": {
      "image/png": "[encoded data removed]",
      "text/plain": [
       "<Figure size 432x288 with 1 Axes>"
      ]
     },
     "metadata": {
      "needs_background": "light"
     },
     "output_type": "display_data"
    }
   ],
   "source": [
    "plt.scatter(iris.data[previsoes == 0, 0], iris.data[previsoes == 0, 1],\n",
    "            c='green', label='Setosa')\n",
    "plt.scatter(iris.data[previsoes == 1, 0], iris.data[previsoes == 1, 1],\n",
    "            c='red', label='versicolor')\n",
    "plt.scatter(iris.data[previsoes == 2, 0], iris.data[previsoes == 2, 1],\n",
    "            c='blue', label='Virginica')\n",
    "\n",
    "plt.legend()"
   ]
  },
  {
   "cell_type": "markdown",
   "metadata": {},
   "source": [
    "  #### 2.2 Fuzzy c-means"
   ]
  },
  {
   "cell_type": "code",
   "execution_count": 52,
   "metadata": {},
   "outputs": [],
   "source": [
    "import skfuzzy"
   ]
  },
  {
   "cell_type": "code",
   "execution_count": 55,
   "metadata": {},
   "outputs": [],
   "source": [
    "r = skfuzzy.cmeans(data=iris.data.T, c = 3, m = 2, error = 0.005,\n",
    "                   maxiter=1000, init=None)\n"
   ]
  },
  {
   "cell_type": "code",
   "execution_count": 58,
   "metadata": {},
   "outputs": [
    {
     "data": {
      "text/plain": [
       "array([[2.30443638e-03, 1.66589838e-02, 1.37656874e-02, 2.24776130e-02,\n",
       "        3.76205039e-03, 4.48260202e-02, 1.40102183e-02, 3.11703504e-04,\n",
       "        4.77418235e-02, 1.19426138e-02, 2.17654664e-02, 5.43528561e-03,\n",
       "        2.01934485e-02, 5.18156389e-02, 7.26311787e-02, 1.04379023e-01,\n",
       "        3.55911826e-02, 2.28882878e-03, 6.55844094e-02, 1.41625076e-02,\n",
       "        2.18681791e-02, 1.03775175e-02, 2.75176505e-02, 1.44724586e-02,\n",
       "        2.32584920e-02, 1.84710675e-02, 3.58464221e-03, 4.56688926e-03,\n",
       "        4.32954290e-03, 1.42101551e-02, 1.48086752e-02, 1.77055523e-02,\n",
       "        4.11589562e-02, 6.35011655e-02, 1.03473795e-02, 1.02049881e-02,\n",
       "        2.42605747e-02, 6.18371707e-03, 4.11027247e-02, 1.17834684e-03,\n",
       "        3.58423489e-03, 1.02318041e-01, 3.21907122e-02, 1.43915942e-02,\n",
       "        3.81489204e-02, 1.92331885e-02, 1.58484204e-02, 1.76611267e-02,\n",
       "        1.55260570e-02, 2.00894922e-03, 4.53755677e-01, 7.63474474e-01,\n",
       "        3.68136770e-01, 8.70398823e-01, 7.58082924e-01, 9.73793621e-01,\n",
       "        6.72264808e-01, 5.82759864e-01, 7.20459286e-01, 8.30748861e-01,\n",
       "        6.36731034e-01, 9.62068419e-01, 8.43372514e-01, 8.99161409e-01,\n",
       "        8.16407070e-01, 6.89411267e-01, 9.33089894e-01, 9.25915885e-01,\n",
       "        8.35197021e-01, 8.77911387e-01, 7.20982729e-01, 9.34350733e-01,\n",
       "        7.04712677e-01, 9.02402828e-01, 8.75671865e-01, 7.54329001e-01,\n",
       "        5.22982549e-01, 3.05527287e-01, 9.68634022e-01, 7.67284774e-01,\n",
       "        8.32553217e-01, 7.95735663e-01, 9.18924357e-01, 6.55492100e-01,\n",
       "        8.91130941e-01, 7.96769773e-01, 5.54691685e-01, 8.57494237e-01,\n",
       "        9.29073400e-01, 8.99657025e-01, 9.31256877e-01, 9.15262372e-01,\n",
       "        9.35891377e-01, 5.98573976e-01, 9.59043434e-01, 9.45658129e-01,\n",
       "        9.67536385e-01, 9.43743413e-01, 5.20382076e-01, 9.60742888e-01,\n",
       "        1.20694423e-01, 6.14878079e-01, 3.82597587e-02, 1.41482424e-01,\n",
       "        3.75912012e-02, 1.52752924e-01, 7.59989445e-01, 1.15213939e-01,\n",
       "        1.17179566e-01, 1.14676599e-01, 2.09201187e-01, 2.22402568e-01,\n",
       "        9.94489799e-03, 6.59441059e-01, 4.60438454e-01, 1.35678807e-01,\n",
       "        7.92207766e-02, 1.85876811e-01, 1.93305490e-01, 7.10267118e-01,\n",
       "        2.57679292e-02, 7.06484810e-01, 1.74889137e-01, 5.94761242e-01,\n",
       "        2.17480405e-02, 7.52506019e-02, 7.06865922e-01, 6.45946301e-01,\n",
       "        8.27124269e-02, 9.47470740e-02, 1.07519547e-01, 1.89043944e-01,\n",
       "        8.45851959e-02, 5.39225258e-01, 3.92164474e-01, 1.31857207e-01,\n",
       "        1.28514286e-01, 1.09618613e-01, 7.49126875e-01, 2.88719037e-02,\n",
       "        3.76538374e-02, 1.29211741e-01, 6.14878079e-01, 3.38216003e-02,\n",
       "        6.31891688e-02, 1.06058657e-01, 5.06660750e-01, 1.55769651e-01,\n",
       "        1.88668380e-01, 5.80932438e-01],\n",
       "       [1.07193338e-03, 7.50110076e-03, 6.41661620e-03, 1.01116677e-02,\n",
       "        1.76789443e-03, 2.06268791e-02, 6.50666016e-03, 1.41263472e-04,\n",
       "        2.19102421e-02, 5.34395371e-03, 1.02040011e-02, 2.43228070e-03,\n",
       "        9.18072157e-03, 2.52433927e-02, 3.76410119e-02, 5.43199540e-02,\n",
       "        1.75001917e-02, 1.05882206e-03, 3.03181762e-02, 6.65540544e-03,\n",
       "        9.54458382e-03, 4.79532576e-03, 1.38357632e-02, 6.11527879e-03,\n",
       "        9.84324356e-03, 7.97753053e-03, 1.57451154e-03, 2.08732874e-03,\n",
       "        1.99641265e-03, 6.28553531e-03, 6.47670886e-03, 7.94268212e-03,\n",
       "        2.03393464e-02, 3.23564844e-02, 4.59624721e-03, 4.80638315e-03,\n",
       "        1.15672773e-02, 2.92680720e-03, 1.92389492e-02, 5.33454821e-04,\n",
       "        1.68828988e-03, 4.70092673e-02, 1.52132514e-02, 6.33254105e-03,\n",
       "        1.66075370e-02, 8.63511223e-03, 7.36710761e-03, 8.12965204e-03,\n",
       "        7.26156684e-03, 9.19529933e-04, 5.01670499e-01, 2.07330454e-01,\n",
       "        6.00607745e-01, 8.03496647e-02, 2.17776547e-01, 2.04708718e-02,\n",
       "        2.97914968e-01, 1.32286450e-01, 2.48281933e-01, 9.46166753e-02,\n",
       "        1.45031917e-01, 2.87516300e-02, 1.01070846e-01, 8.86827844e-02,\n",
       "        9.21017478e-02, 2.68848437e-01, 5.27524647e-02, 4.82683797e-02,\n",
       "        1.37645265e-01, 7.06562127e-02, 2.51373913e-01, 4.61913998e-02,\n",
       "        2.71292200e-01, 8.36318067e-02, 1.01400272e-01, 2.11703481e-01,\n",
       "        4.43406994e-01, 6.73307614e-01, 2.63973294e-02, 1.04582068e-01,\n",
       "        8.97879701e-02, 1.00653220e-01, 5.01910907e-02, 3.20518319e-01,\n",
       "        8.24997195e-02, 1.71060450e-01, 4.11845805e-01, 1.15633605e-01,\n",
       "        4.69010441e-02, 6.22657707e-02, 4.91585186e-02, 7.30806744e-02,\n",
       "        4.16730732e-02, 1.32713941e-01, 2.83354022e-02, 3.76063260e-02,\n",
       "        2.29305662e-02, 4.48355406e-02, 1.24504235e-01, 2.66301516e-02,\n",
       "        8.59938800e-01, 3.55813734e-01, 9.55642194e-01, 8.46017592e-01,\n",
       "        9.57655868e-01, 8.11748033e-01, 1.67078139e-01, 8.62858639e-01,\n",
       "        8.68833152e-01, 8.60872047e-01, 7.74065055e-01, 7.61870617e-01,\n",
       "        9.88895871e-01, 3.06182913e-01, 5.01198606e-01, 8.50282042e-01,\n",
       "        9.13644531e-01, 7.63492421e-01, 7.57474221e-01, 2.57531010e-01,\n",
       "        9.70390660e-01, 2.59858868e-01, 7.83102303e-01, 3.82425719e-01,\n",
       "        9.75334865e-01, 9.11817347e-01, 2.72128353e-01, 3.30943259e-01,\n",
       "        9.08949494e-01, 8.90795156e-01, 8.72666616e-01, 7.60012080e-01,\n",
       "        9.06475857e-01, 4.37379985e-01, 5.76661074e-01, 8.39444953e-01,\n",
       "        8.54267660e-01, 8.80625620e-01, 2.29117768e-01, 9.67645949e-01,\n",
       "        9.57267260e-01, 8.55402420e-01, 3.55813734e-01, 9.60910666e-01,\n",
       "        9.27099853e-01, 8.82700537e-01, 4.67542851e-01, 8.32150369e-01,\n",
       "        7.89769119e-01, 3.92138440e-01],\n",
       "       [9.96623630e-01, 9.75839915e-01, 9.79817696e-01, 9.67410719e-01,\n",
       "        9.94470055e-01, 9.34547101e-01, 9.79483122e-01, 9.99547033e-01,\n",
       "        9.30347934e-01, 9.82713432e-01, 9.68030533e-01, 9.92132434e-01,\n",
       "        9.70625830e-01, 9.22940968e-01, 8.89727809e-01, 8.41301023e-01,\n",
       "        9.46908626e-01, 9.96652349e-01, 9.04097414e-01, 9.79182087e-01,\n",
       "        9.68587237e-01, 9.84827157e-01, 9.58646586e-01, 9.79412263e-01,\n",
       "        9.66898264e-01, 9.73551402e-01, 9.94840846e-01, 9.93345782e-01,\n",
       "        9.93674044e-01, 9.79504310e-01, 9.78714616e-01, 9.74351766e-01,\n",
       "        9.38501697e-01, 9.04142350e-01, 9.85056373e-01, 9.84988629e-01,\n",
       "        9.64172148e-01, 9.90889476e-01, 9.39658326e-01, 9.98288198e-01,\n",
       "        9.94727475e-01, 8.50672691e-01, 9.52596036e-01, 9.79275865e-01,\n",
       "        9.45243543e-01, 9.72131699e-01, 9.76784472e-01, 9.74209221e-01,\n",
       "        9.77212376e-01, 9.97071521e-01, 4.45738245e-02, 2.91950721e-02,\n",
       "        3.12554844e-02, 4.92515119e-02, 2.41405288e-02, 5.73550765e-03,\n",
       "        2.98202247e-02, 2.84953686e-01, 3.12587815e-02, 7.46344634e-02,\n",
       "        2.18237049e-01, 9.17995106e-03, 5.55566405e-02, 1.21558068e-02,\n",
       "        9.14911824e-02, 4.17402968e-02, 1.41576414e-02, 2.58157351e-02,\n",
       "        2.71577141e-02, 5.14324004e-02, 2.76433581e-02, 1.94578671e-02,\n",
       "        2.39951228e-02, 1.39653658e-02, 2.29278630e-02, 3.39675177e-02,\n",
       "        3.36104564e-02, 2.11651000e-02, 4.96864853e-03, 1.28133157e-01,\n",
       "        7.76588128e-02, 1.03611117e-01, 3.08845524e-02, 2.39895819e-02,\n",
       "        2.63693394e-02, 3.21697770e-02, 3.34625097e-02, 2.68721581e-02,\n",
       "        2.40255563e-02, 3.80772044e-02, 1.95846039e-02, 1.16569534e-02,\n",
       "        2.24355499e-02, 2.68712083e-01, 1.26211637e-02, 1.67355451e-02,\n",
       "        9.53304924e-03, 1.14210465e-02, 3.55113689e-01, 1.26269605e-02,\n",
       "        1.93667767e-02, 2.93081871e-02, 6.09804692e-03, 1.24999836e-02,\n",
       "        4.75293130e-03, 3.54990431e-02, 7.29324164e-02, 2.19274227e-02,\n",
       "        1.39872815e-02, 2.44513534e-02, 1.67337579e-02, 1.57268156e-02,\n",
       "        1.15923059e-03, 3.43760275e-02, 3.83629406e-02, 1.40391512e-02,\n",
       "        7.13469239e-03, 5.06307681e-02, 4.92202897e-02, 3.22018713e-02,\n",
       "        3.84141077e-03, 3.36563216e-02, 4.20085601e-02, 2.28130390e-02,\n",
       "        2.91709460e-03, 1.29320514e-02, 2.10057244e-02, 2.31104399e-02,\n",
       "        8.33807871e-03, 1.44577698e-02, 1.98138372e-02, 5.09439760e-02,\n",
       "        8.93894695e-03, 2.33947569e-02, 3.11744528e-02, 2.86978398e-02,\n",
       "        1.72180547e-02, 9.75576738e-03, 2.17553566e-02, 3.48214689e-03,\n",
       "        5.07890212e-03, 1.53858392e-02, 2.93081871e-02, 5.26773384e-03,\n",
       "        9.71097820e-03, 1.12408056e-02, 2.57963988e-02, 1.20799808e-02,\n",
       "        2.15625004e-02, 2.69291214e-02]])"
      ]
     },
     "execution_count": 58,
     "metadata": {},
     "output_type": "execute_result"
    }
   ],
   "source": [
    "previsoes_porcentagem = r[1]\n",
    "previsoes_porcentagem"
   ]
  },
  {
   "cell_type": "code",
   "execution_count": 60,
   "metadata": {},
   "outputs": [
    {
     "data": {
      "text/plain": [
       "0.9966236302401763"
      ]
     },
     "execution_count": 60,
     "metadata": {},
     "output_type": "execute_result"
    }
   ],
   "source": [
    "previsoes_porcentagem[2][0]"
   ]
  },
  {
   "cell_type": "code",
   "execution_count": 61,
   "metadata": {},
   "outputs": [
    {
     "data": {
      "text/plain": [
       "array([2, 2, 2, 2, 2, 2, 2, 2, 2, 2, 2, 2, 2, 2, 2, 2, 2, 2, 2, 2, 2, 2,\n",
       "       2, 2, 2, 2, 2, 2, 2, 2, 2, 2, 2, 2, 2, 2, 2, 2, 2, 2, 2, 2, 2, 2,\n",
       "       2, 2, 2, 2, 2, 2, 1, 0, 1, 0, 0, 0, 0, 0, 0, 0, 0, 0, 0, 0, 0, 0,\n",
       "       0, 0, 0, 0, 0, 0, 0, 0, 0, 0, 0, 1, 0, 0, 0, 0, 0, 0, 0, 0, 0, 0,\n",
       "       0, 0, 0, 0, 0, 0, 0, 0, 0, 0, 0, 0, 1, 0, 1, 1, 1, 1, 0, 1, 1, 1,\n",
       "       1, 1, 1, 0, 1, 1, 1, 1, 1, 0, 1, 0, 1, 0, 1, 1, 0, 0, 1, 1, 1, 1,\n",
       "       1, 0, 1, 1, 1, 1, 0, 1, 1, 1, 0, 1, 1, 1, 0, 1, 1, 0])"
      ]
     },
     "execution_count": 61,
     "metadata": {},
     "output_type": "execute_result"
    }
   ],
   "source": [
    "previsoes = previsoes_porcentagem.argmax(axis=0)\n",
    "previsoes"
   ]
  },
  {
   "cell_type": "code",
   "execution_count": 62,
   "metadata": {},
   "outputs": [
    {
     "data": {
      "text/plain": [
       "array([[ 0,  0, 50],\n",
       "       [47,  3,  0],\n",
       "       [13, 37,  0]])"
      ]
     },
     "execution_count": 62,
     "metadata": {},
     "output_type": "execute_result"
    }
   ],
   "source": [
    "resultado = confusion_matrix(iris.target, previsoes)\n",
    "resultado"
   ]
  },
  {
   "cell_type": "markdown",
   "metadata": {},
   "source": [
    "   #### 2.3 K-Moid"
   ]
  },
  {
   "cell_type": "code",
   "execution_count": 63,
   "metadata": {},
   "outputs": [],
   "source": [
    "from pyclustering.cluster.kmedoids import kmedoids\n",
    "from pyclustering.cluster import cluster_visualizer"
   ]
  },
  {
   "cell_type": "code",
   "execution_count": 65,
   "metadata": {},
   "outputs": [
    {
     "data": {
      "text/plain": [
       "[3, 12, 20]"
      ]
     },
     "execution_count": 65,
     "metadata": {},
     "output_type": "execute_result"
    }
   ],
   "source": [
    "cluster = kmedoids(iris.data[:, 0:2], [3,12,20])\n",
    "cluster.get_medoids()"
   ]
  },
  {
   "cell_type": "code",
   "execution_count": 67,
   "metadata": {},
   "outputs": [
    {
     "data": {
      "text/plain": [
       "[[7,\n",
       "  0,\n",
       "  1,\n",
       "  2,\n",
       "  3,\n",
       "  4,\n",
       "  5,\n",
       "  6,\n",
       "  8,\n",
       "  9,\n",
       "  10,\n",
       "  11,\n",
       "  12,\n",
       "  13,\n",
       "  14,\n",
       "  15,\n",
       "  16,\n",
       "  17,\n",
       "  18,\n",
       "  19,\n",
       "  20,\n",
       "  21,\n",
       "  22,\n",
       "  23,\n",
       "  24,\n",
       "  25,\n",
       "  26,\n",
       "  27,\n",
       "  28,\n",
       "  29,\n",
       "  30,\n",
       "  31,\n",
       "  32,\n",
       "  33,\n",
       "  34,\n",
       "  35,\n",
       "  36,\n",
       "  37,\n",
       "  38,\n",
       "  39,\n",
       "  40,\n",
       "  41,\n",
       "  42,\n",
       "  43,\n",
       "  44,\n",
       "  45,\n",
       "  46,\n",
       "  47,\n",
       "  48,\n",
       "  49,\n",
       "  106],\n",
       " [67,\n",
       "  53,\n",
       "  55,\n",
       "  57,\n",
       "  59,\n",
       "  60,\n",
       "  61,\n",
       "  62,\n",
       "  63,\n",
       "  64,\n",
       "  66,\n",
       "  68,\n",
       "  69,\n",
       "  70,\n",
       "  71,\n",
       "  72,\n",
       "  73,\n",
       "  78,\n",
       "  79,\n",
       "  80,\n",
       "  81,\n",
       "  82,\n",
       "  83,\n",
       "  84,\n",
       "  85,\n",
       "  87,\n",
       "  88,\n",
       "  89,\n",
       "  90,\n",
       "  91,\n",
       "  92,\n",
       "  93,\n",
       "  94,\n",
       "  95,\n",
       "  96,\n",
       "  97,\n",
       "  98,\n",
       "  99,\n",
       "  101,\n",
       "  113,\n",
       "  114,\n",
       "  119,\n",
       "  121,\n",
       "  123,\n",
       "  126,\n",
       "  127,\n",
       "  133,\n",
       "  134,\n",
       "  138,\n",
       "  142,\n",
       "  146,\n",
       "  149],\n",
       " [112,\n",
       "  50,\n",
       "  51,\n",
       "  52,\n",
       "  54,\n",
       "  56,\n",
       "  58,\n",
       "  65,\n",
       "  74,\n",
       "  75,\n",
       "  76,\n",
       "  77,\n",
       "  86,\n",
       "  100,\n",
       "  102,\n",
       "  103,\n",
       "  104,\n",
       "  105,\n",
       "  107,\n",
       "  108,\n",
       "  109,\n",
       "  110,\n",
       "  111,\n",
       "  115,\n",
       "  116,\n",
       "  117,\n",
       "  118,\n",
       "  120,\n",
       "  122,\n",
       "  124,\n",
       "  125,\n",
       "  128,\n",
       "  129,\n",
       "  130,\n",
       "  131,\n",
       "  132,\n",
       "  135,\n",
       "  136,\n",
       "  137,\n",
       "  139,\n",
       "  140,\n",
       "  141,\n",
       "  143,\n",
       "  144,\n",
       "  145,\n",
       "  147,\n",
       "  148]]"
      ]
     },
     "execution_count": 67,
     "metadata": {},
     "output_type": "execute_result"
    }
   ],
   "source": [
    "cluster.process()\n",
    "previsoes = cluster.get_clusters()\n",
    "previsoes"
   ]
  },
  {
   "cell_type": "code",
   "execution_count": 68,
   "metadata": {},
   "outputs": [
    {
     "data": {
      "text/plain": [
       "[7, 67, 112]"
      ]
     },
     "execution_count": 68,
     "metadata": {},
     "output_type": "execute_result"
    }
   ],
   "source": [
    "medoides = cluster.get_medoids()\n",
    "medoides"
   ]
  },
  {
   "cell_type": "code",
   "execution_count": 69,
   "metadata": {},
   "outputs": [
    {
     "data": {
      "image/png": "[encoded data removed]",
      "text/plain": [
       "<Figure size 432x288 with 1 Axes>"
      ]
     },
     "metadata": {
      "needs_background": "light"
     },
     "output_type": "display_data"
    },
    {
     "data": {
      "image/png": "[encoded data removed]",
      "text/plain": [
       "<Figure size 432x288 with 1 Axes>"
      ]
     },
     "execution_count": 69,
     "metadata": {},
     "output_type": "execute_result"
    }
   ],
   "source": [
    "v = cluster_visualizer()\n",
    "v.append_clusters(previsoes, iris.data[:, 0:2])\n",
    "v.append_cluster(medoides, data=iris.data[:, 0:2], marker=\"*\", markersize=15)\n",
    "v.show()"
   ]
  },
  {
   "cell_type": "code",
   "execution_count": 70,
   "metadata": {},
   "outputs": [],
   "source": [
    "lista_previsoes = []\n",
    "lista_real = []\n",
    "\n",
    "for i in range(len(previsoes)):\n",
    "    for j in range(len(previsoes[i])):\n",
    "        lista_previsoes.append(i)\n",
    "        lista_real.append(iris.target[previsoes[i][j]])"
   ]
  },
  {
   "cell_type": "code",
   "execution_count": 71,
   "metadata": {},
   "outputs": [
    {
     "data": {
      "text/plain": [
       "array([0, 0, 0, 0, 0, 0, 0, 0, 0, 0, 0, 0, 0, 0, 0, 0, 0, 0, 0, 0, 0, 0,\n",
       "       0, 0, 0, 0, 0, 0, 0, 0, 0, 0, 0, 0, 0, 0, 0, 0, 0, 0, 0, 0, 0, 0,\n",
       "       0, 0, 0, 0, 0, 0, 0, 1, 1, 1, 1, 1, 1, 1, 1, 1, 1, 1, 1, 1, 1, 1,\n",
       "       1, 1, 1, 1, 1, 1, 1, 1, 1, 1, 1, 1, 1, 1, 1, 1, 1, 1, 1, 1, 1, 1,\n",
       "       1, 1, 1, 1, 1, 1, 1, 1, 1, 1, 1, 1, 1, 1, 1, 2, 2, 2, 2, 2, 2, 2,\n",
       "       2, 2, 2, 2, 2, 2, 2, 2, 2, 2, 2, 2, 2, 2, 2, 2, 2, 2, 2, 2, 2, 2,\n",
       "       2, 2, 2, 2, 2, 2, 2, 2, 2, 2, 2, 2, 2, 2, 2, 2, 2, 2])"
      ]
     },
     "execution_count": 71,
     "metadata": {},
     "output_type": "execute_result"
    }
   ],
   "source": [
    "lista_previsoes = numpy.asarray(lista_previsoes)\n",
    "lista_previsoes"
   ]
  },
  {
   "cell_type": "code",
   "execution_count": 72,
   "metadata": {},
   "outputs": [
    {
     "data": {
      "text/plain": [
       "array([0, 0, 0, 0, 0, 0, 0, 0, 0, 0, 0, 0, 0, 0, 0, 0, 0, 0, 0, 0, 0, 0,\n",
       "       0, 0, 0, 0, 0, 0, 0, 0, 0, 0, 0, 0, 0, 0, 0, 0, 0, 0, 0, 0, 0, 0,\n",
       "       0, 0, 0, 0, 0, 0, 2, 1, 1, 1, 1, 1, 1, 1, 1, 1, 1, 1, 1, 1, 1, 1,\n",
       "       1, 1, 1, 1, 1, 1, 1, 1, 1, 1, 1, 1, 1, 1, 1, 1, 1, 1, 1, 1, 1, 1,\n",
       "       1, 2, 2, 2, 2, 2, 2, 2, 2, 2, 2, 2, 2, 2, 2, 2, 1, 1, 1, 1, 1, 1,\n",
       "       1, 1, 1, 1, 1, 1, 2, 2, 2, 2, 2, 2, 2, 2, 2, 2, 2, 2, 2, 2, 2, 2,\n",
       "       2, 2, 2, 2, 2, 2, 2, 2, 2, 2, 2, 2, 2, 2, 2, 2, 2, 2])"
      ]
     },
     "execution_count": 72,
     "metadata": {},
     "output_type": "execute_result"
    }
   ],
   "source": [
    "lista_real = numpy.asarray(lista_real)\n",
    "lista_real"
   ]
  },
  {
   "cell_type": "code",
   "execution_count": 73,
   "metadata": {},
   "outputs": [
    {
     "data": {
      "text/plain": [
       "array([[50,  0,  0],\n",
       "       [ 0, 38, 12],\n",
       "       [ 1, 14, 35]])"
      ]
     },
     "execution_count": 73,
     "metadata": {},
     "output_type": "execute_result"
    }
   ],
   "source": [
    "confusao = confusion_matrix(lista_real, lista_previsoes)\n",
    "confusao"
   ]
  },
  {
   "cell_type": "code",
   "execution_count": null,
   "metadata": {},
   "outputs": [],
   "source": []
  }
 ],
 "metadata": {
  "kernelspec": {
   "display_name": "Python 3",
   "language": "python",
   "name": "python3"
  },
  "language_info": {
   "codemirror_mode": {
    "name": "ipython",
    "version": 3
   },
   "file_extension": ".py",
   "mimetype": "text/x-python",
   "name": "python",
   "nbconvert_exporter": "python",
   "pygments_lexer": "ipython3",
   "version": "3.5.2"
  }
 },
 "nbformat": 4,
 "nbformat_minor": 2
}
