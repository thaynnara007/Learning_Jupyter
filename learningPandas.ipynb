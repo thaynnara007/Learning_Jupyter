{
 "cells": [
  {
   "cell_type": "markdown",
   "metadata": {},
   "source": [
    "# Learning Pandas \n",
    "\n",
    "- libraries"
   ]
  },
  {
   "cell_type": "code",
   "execution_count": 1,
   "metadata": {},
   "outputs": [],
   "source": [
    "import pandas as pandas\n",
    "import numpy as numpy\n",
    "import matplotlib.pyplot as plt\n",
    "\n",
    "%matplotlib inline"
   ]
  },
  {
   "cell_type": "markdown",
   "metadata": {},
   "source": [
    "### some data structure\n",
    "\n",
    "- Series"
   ]
  },
  {
   "cell_type": "code",
   "execution_count": 2,
   "metadata": {},
   "outputs": [
    {
     "data": {
      "text/plain": [
       "0    2\n",
       "1    7\n",
       "2    6\n",
       "3    4\n",
       "4    5\n",
       "5    6\n",
       "6    6\n",
       "7    6\n",
       "dtype: int64"
      ]
     },
     "execution_count": 2,
     "metadata": {},
     "output_type": "execute_result"
    }
   ],
   "source": [
    "# com índices\n",
    "\n",
    "grades = pandas.Series([2,7,6,4,5,6,6,6])\n",
    "grades"
   ]
  },
  {
   "cell_type": "code",
   "execution_count": 4,
   "metadata": {
    "scrolled": true
   },
   "outputs": [
    {
     "data": {
      "text/plain": [
       "array([2, 7, 6, 4, 5, 6, 6, 6])"
      ]
     },
     "execution_count": 4,
     "metadata": {},
     "output_type": "execute_result"
    }
   ],
   "source": [
    "# pegando todas as notas\n",
    "grades.values"
   ]
  },
  {
   "cell_type": "code",
   "execution_count": 6,
   "metadata": {},
   "outputs": [
    {
     "data": {
      "text/plain": [
       "RangeIndex(start=0, stop=8, step=1)"
      ]
     },
     "execution_count": 6,
     "metadata": {},
     "output_type": "execute_result"
    }
   ],
   "source": [
    "# intervalo de índices das notas\n",
    "grades.index"
   ]
  },
  {
   "cell_type": "code",
   "execution_count": 8,
   "metadata": {},
   "outputs": [
    {
     "data": {
      "text/plain": [
       "Finn            2\n",
       "Jake            7\n",
       "Marcy           6\n",
       "Bubblegum       4\n",
       "Phobe           5\n",
       "Simon           6\n",
       "Kim Kil Whan    6\n",
       "Betty           6\n",
       "dtype: int64"
      ]
     },
     "execution_count": 8,
     "metadata": {},
     "output_type": "execute_result"
    }
   ],
   "source": [
    "# usando strings como índices\n",
    "\n",
    "grades2 = pandas.Series([2,7,6,4,5,6,6,6], index =[\"Finn\", \"Jake\", \"Marcy\", \"Bubblegum\", \"Phobe\", \"Simon\", \"Kim Kil Whan\", \"Betty\"])\n",
    "grades2"
   ]
  },
  {
   "cell_type": "code",
   "execution_count": 12,
   "metadata": {},
   "outputs": [
    {
     "data": {
      "text/plain": [
       "7"
      ]
     },
     "execution_count": 12,
     "metadata": {},
     "output_type": "execute_result"
    }
   ],
   "source": [
    "# pegando um elemento, usando como índice um int\n",
    "\n",
    "grades[1]"
   ]
  },
  {
   "cell_type": "code",
   "execution_count": 13,
   "metadata": {},
   "outputs": [
    {
     "data": {
      "text/plain": [
       "7"
      ]
     },
     "execution_count": 13,
     "metadata": {},
     "output_type": "execute_result"
    }
   ],
   "source": [
    "# pegando um elemento, usando como índice uma string\n",
    "\n",
    "grades2['Jake']"
   ]
  },
  {
   "cell_type": "code",
   "execution_count": 19,
   "metadata": {},
   "outputs": [
    {
     "name": "stdout",
     "output_type": "stream",
     "text": [
      "média:  5.25\n",
      "desvio padrão: 1.5811388300841898\n",
      "Qunatidade:  8\n",
      "Menor:  2\n",
      "Maior:  7\n"
     ]
    }
   ],
   "source": [
    "# alguns métodos\n",
    "\n",
    "# pegando a média:\n",
    "print(\"média: \", grades.mean())\n",
    "# desvio padrão:\n",
    "print(\"desvio padrão:\", grades.std())\n",
    "# quantidade de elementos dentro da serie\n",
    "print (\"Qunatidade: \", grades.count())\n",
    "# menor elemento\n",
    "print (\"Menor: \", grades.min())\n",
    "# maior elemento \n",
    "print (\"Maior: \", grades.max())"
   ]
  },
  {
   "cell_type": "code",
   "execution_count": 20,
   "metadata": {},
   "outputs": [
    {
     "data": {
      "text/plain": [
       "count    8.000000\n",
       "mean     5.250000\n",
       "std      1.581139\n",
       "min      2.000000\n",
       "25%      4.750000\n",
       "50%      6.000000\n",
       "75%      6.000000\n",
       "max      7.000000\n",
       "dtype: float64"
      ]
     },
     "execution_count": 20,
     "metadata": {},
     "output_type": "execute_result"
    }
   ],
   "source": [
    "# resumo sobre as estatísticas dos dados\n",
    "grades.describe()"
   ]
  },
  {
   "cell_type": "code",
   "execution_count": 23,
   "metadata": {},
   "outputs": [
    {
     "name": "stdout",
     "output_type": "stream",
     "text": [
      "notas²: \n",
      "Finn             4\n",
      "Jake            49\n",
      "Marcy           36\n",
      "Bubblegum       16\n",
      "Phobe           25\n",
      "Simon           36\n",
      "Kim Kil Whan    36\n",
      "Betty           36\n",
      "dtype: int64 \n",
      "\n",
      "notas x 2: \n",
      "Finn             4\n",
      "Jake            14\n",
      "Marcy           12\n",
      "Bubblegum        8\n",
      "Phobe           10\n",
      "Simon           12\n",
      "Kim Kil Whan    12\n",
      "Betty           12\n",
      "dtype: int64 \n",
      "\n",
      "notas / 2: \n",
      "Finn            1.0\n",
      "Jake            3.5\n",
      "Marcy           3.0\n",
      "Bubblegum       2.0\n",
      "Phobe           2.5\n",
      "Simon           3.0\n",
      "Kim Kil Whan    3.0\n",
      "Betty           3.0\n",
      "dtype: float64 \n",
      "\n",
      "notas + 2: \n",
      "Finn            4\n",
      "Jake            9\n",
      "Marcy           8\n",
      "Bubblegum       6\n",
      "Phobe           7\n",
      "Simon           8\n",
      "Kim Kil Whan    8\n",
      "Betty           8\n",
      "dtype: int64 \n",
      "\n",
      "notas - 2: \n",
      "Finn            0\n",
      "Jake            5\n",
      "Marcy           4\n",
      "Bubblegum       2\n",
      "Phobe           3\n",
      "Simon           4\n",
      "Kim Kil Whan    4\n",
      "Betty           4\n",
      "dtype: int64\n"
     ]
    }
   ],
   "source": [
    "# é possível aplicar algumas operações matemáticas direto na estrutura\n",
    "\n",
    "print (\"notas²: \")\n",
    "print(grades ** 2, \"\\n\")\n",
    "print(\"notas x 2: \")\n",
    "print(grades * 2, \"\\n\")\n",
    "print(\"notas / 2: \")\n",
    "print(grades/2, \"\\n\")\n",
    "print(\"notas + 2: \") \n",
    "print(grades + 2, \"\\n\")\n",
    "print(\"notas - 2: \")\n",
    "print(grades - 2)"
   ]
  },
  {
   "cell_type": "code",
   "execution_count": null,
   "metadata": {},
   "outputs": [],
   "source": [
    "#"
   ]
  }
 ],
 "metadata": {
  "kernelspec": {
   "display_name": "Python 3",
   "language": "python",
   "name": "python3"
  },
  "language_info": {
   "codemirror_mode": {
    "name": "ipython",
    "version": 3
   },
   "file_extension": ".py",
   "mimetype": "text/x-python",
   "name": "python",
   "nbconvert_exporter": "python",
   "pygments_lexer": "ipython3",
   "version": "3.5.2"
  }
 },
 "nbformat": 4,
 "nbformat_minor": 2
}
